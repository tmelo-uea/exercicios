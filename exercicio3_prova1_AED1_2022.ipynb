{
  "nbformat": 4,
  "nbformat_minor": 0,
  "metadata": {
    "colab": {
      "provenance": []
    },
    "kernelspec": {
      "name": "python3",
      "display_name": "Python 3"
    },
    "language_info": {
      "name": "python"
    }
  },
  "cells": [
    {
      "cell_type": "code",
      "source": [
        "import math\n",
        "\n",
        "#Classe dos itens da lista\n",
        "class Node:\n",
        "\tdef __init__(self, data):\n",
        "\t\tself.data = data #chave\n",
        "\t\tself.next = None #ponteiro\n",
        "\t\t\n",
        "#Função que remove os itens alternadamente\n",
        "def funcao2(head):\n",
        "\tif (head == None):\n",
        "\t\treturn\n",
        "\tprev = head\n",
        "\tnow = head.next\n",
        "\twhile (prev != None and now != None):\n",
        "\t\tprev.next = now.next\n",
        "\t\tnow = None\n",
        "\t\tprev = prev.next\n",
        "\t\tif (prev != None):\n",
        "\t\t\tnow = prev.next\n",
        "\t\n",
        "#Função que insere o elemento na primeira posição de uma lista ligada\n",
        "def funcao1(head_ref, new_data):\n",
        "\tnew_node = Node(new_data)\n",
        "\tnew_node.data = new_data\n",
        "\tnew_node.next = head_ref\n",
        "\thead_ref = new_node\n",
        "\treturn head_ref\n",
        "\n",
        "#Função que imprime os elemento de uma lista ligada (encadeada)\n",
        "def printList(node):\n",
        "\twhile (node != None):\n",
        "\t\tprint(node.data, end = \" \")\n",
        "\t\tnode = node.next\n",
        "\n",
        "#Programa principal\n",
        "if __name__=='__main__':\n",
        "\thead = None\n",
        "\thead = funcao1(head, 5)\n",
        "\thead = funcao1(head, 4)\n",
        "\thead = funcao1(head, 3)\n",
        "\thead = funcao1(head, 2)\n",
        "\thead = funcao1(head, 1)\n",
        "\tprintList(head) #Lista original\n",
        "\tfuncao2(head)\n",
        "\tprintList(head) #Lista com os itens removidos"
      ],
      "metadata": {
        "colab": {
          "base_uri": "https://localhost:8080/"
        },
        "id": "2s6HXjLLZlDE",
        "outputId": "5636289e-2732-418b-a97d-2a03b4ae3680"
      },
      "execution_count": 1,
      "outputs": [
        {
          "output_type": "stream",
          "name": "stdout",
          "text": [
            "1 2 3 4 5 1 3 5 "
          ]
        }
      ]
    }
  ]
}