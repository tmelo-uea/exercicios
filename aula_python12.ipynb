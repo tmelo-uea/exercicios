{
  "cells": [
    {
      "cell_type": "markdown",
      "metadata": {
        "id": "view-in-github",
        "colab_type": "text"
      },
      "source": [
        "<a href=\"https://colab.research.google.com/github/tmelo-uea/exercicios/blob/main/aula_python12.ipynb\" target=\"_parent\"><img src=\"https://colab.research.google.com/assets/colab-badge.svg\" alt=\"Open In Colab\"/></a>"
      ]
    },
    {
      "cell_type": "markdown",
      "source": [
        "O material deste curso é parte integrante do módulo de Programação para Ciência de Dados no curso de Pós-Graduação Lato Sensu em Ciência de Dados da Universidade do Estado do Amazonas (UEA) ministrada pelo professor Tiago Eugenio de Melo"
      ],
      "metadata": {
        "id": "7E6aioJo5Wyk"
      },
      "id": "7E6aioJo5Wyk"
    },
    {
      "cell_type": "code",
      "source": [
        "!apt-get install python3.8"
      ],
      "metadata": {
        "colab": {
          "base_uri": "https://localhost:8080/"
        },
        "id": "shaM2YVEyZFZ",
        "outputId": "84b00cf2-9ca5-4824-f28c-4a50a02d7afd"
      },
      "id": "shaM2YVEyZFZ",
      "execution_count": 78,
      "outputs": [
        {
          "output_type": "stream",
          "name": "stdout",
          "text": [
            "Reading package lists... Done\n",
            "Building dependency tree... Done\n",
            "Reading state information... Done\n",
            "The following additional packages will be installed:\n",
            "  libpython3.8-minimal libpython3.8-stdlib python3.8-minimal\n",
            "Suggested packages:\n",
            "  python3.8-venv binfmt-support\n",
            "The following NEW packages will be installed:\n",
            "  libpython3.8-minimal libpython3.8-stdlib python3.8 python3.8-minimal\n",
            "0 upgraded, 4 newly installed, 0 to remove and 34 not upgraded.\n",
            "Need to get 5,076 kB of archives.\n",
            "After this operation, 18.8 MB of additional disk space will be used.\n",
            "Get:1 https://ppa.launchpadcontent.net/deadsnakes/ppa/ubuntu jammy/main amd64 libpython3.8-minimal amd64 3.8.20-1+jammy1 [796 kB]\n",
            "Get:2 https://ppa.launchpadcontent.net/deadsnakes/ppa/ubuntu jammy/main amd64 python3.8-minimal amd64 3.8.20-1+jammy1 [2,023 kB]\n",
            "Get:3 https://ppa.launchpadcontent.net/deadsnakes/ppa/ubuntu jammy/main amd64 libpython3.8-stdlib amd64 3.8.20-1+jammy1 [1,817 kB]\n",
            "Get:4 https://ppa.launchpadcontent.net/deadsnakes/ppa/ubuntu jammy/main amd64 python3.8 amd64 3.8.20-1+jammy1 [440 kB]\n",
            "Fetched 5,076 kB in 3s (1,488 kB/s)\n",
            "Selecting previously unselected package libpython3.8-minimal:amd64.\n",
            "(Reading database ... 126102 files and directories currently installed.)\n",
            "Preparing to unpack .../libpython3.8-minimal_3.8.20-1+jammy1_amd64.deb ...\n",
            "Unpacking libpython3.8-minimal:amd64 (3.8.20-1+jammy1) ...\n",
            "Selecting previously unselected package python3.8-minimal.\n",
            "Preparing to unpack .../python3.8-minimal_3.8.20-1+jammy1_amd64.deb ...\n",
            "Unpacking python3.8-minimal (3.8.20-1+jammy1) ...\n",
            "Selecting previously unselected package libpython3.8-stdlib:amd64.\n",
            "Preparing to unpack .../libpython3.8-stdlib_3.8.20-1+jammy1_amd64.deb ...\n",
            "Unpacking libpython3.8-stdlib:amd64 (3.8.20-1+jammy1) ...\n",
            "Selecting previously unselected package python3.8.\n",
            "Preparing to unpack .../python3.8_3.8.20-1+jammy1_amd64.deb ...\n",
            "Unpacking python3.8 (3.8.20-1+jammy1) ...\n",
            "Setting up libpython3.8-minimal:amd64 (3.8.20-1+jammy1) ...\n",
            "Setting up python3.8-minimal (3.8.20-1+jammy1) ...\n",
            "Setting up libpython3.8-stdlib:amd64 (3.8.20-1+jammy1) ...\n",
            "Setting up python3.8 (3.8.20-1+jammy1) ...\n",
            "Processing triggers for man-db (2.10.2-1) ...\n",
            "Processing triggers for mailcap (3.70+nmu1ubuntu1) ...\n"
          ]
        }
      ]
    },
    {
      "cell_type": "markdown",
      "id": "c39fc5ed",
      "metadata": {
        "id": "c39fc5ed"
      },
      "source": [
        "# Interpretador"
      ]
    },
    {
      "cell_type": "code",
      "execution_count": null,
      "id": "065daa21",
      "metadata": {
        "colab": {
          "base_uri": "https://localhost:8080/"
        },
        "id": "065daa21",
        "outputId": "ba3e6f59-8614-4ba7-c37c-4b9309237113"
      },
      "outputs": [
        {
          "output_type": "execute_result",
          "data": {
            "text/plain": [
              "10"
            ]
          },
          "metadata": {},
          "execution_count": 1
        }
      ],
      "source": [
        "4 + 6"
      ]
    },
    {
      "cell_type": "code",
      "execution_count": null,
      "id": "838595c0",
      "metadata": {
        "colab": {
          "base_uri": "https://localhost:8080/"
        },
        "id": "838595c0",
        "outputId": "27c96ffc-2b25-4aef-e497-4d9f7ab9f775"
      },
      "outputs": [
        {
          "output_type": "stream",
          "name": "stdout",
          "text": [
            "10\n"
          ]
        }
      ],
      "source": [
        "x = 10\n",
        "\n",
        "print (x)"
      ]
    },
    {
      "cell_type": "code",
      "execution_count": null,
      "id": "51cb8c4a",
      "metadata": {
        "colab": {
          "base_uri": "https://localhost:8080/"
        },
        "id": "51cb8c4a",
        "outputId": "95a9f8ce-6c2e-4559-93ae-7efa84e9431a"
      },
      "outputs": [
        {
          "output_type": "execute_result",
          "data": {
            "text/plain": [
              "7"
            ]
          },
          "metadata": {},
          "execution_count": 3
        }
      ],
      "source": [
        "2 + 5"
      ]
    },
    {
      "cell_type": "code",
      "execution_count": null,
      "id": "075d093c",
      "metadata": {
        "colab": {
          "base_uri": "https://localhost:8080/"
        },
        "id": "075d093c",
        "outputId": "79e62030-d644-461f-9aca-36a7d16647a5"
      },
      "outputs": [
        {
          "output_type": "execute_result",
          "data": {
            "text/plain": [
              "10"
            ]
          },
          "metadata": {},
          "execution_count": 4
        }
      ],
      "source": [
        "2 * 5"
      ]
    },
    {
      "cell_type": "code",
      "execution_count": null,
      "id": "f64545df",
      "metadata": {
        "colab": {
          "base_uri": "https://localhost:8080/"
        },
        "id": "f64545df",
        "outputId": "c6462135-0b82-49cf-e73d-11fdffb02b0c"
      },
      "outputs": [
        {
          "output_type": "execute_result",
          "data": {
            "text/plain": [
              "0.4"
            ]
          },
          "metadata": {},
          "execution_count": 5
        }
      ],
      "source": [
        "2/5"
      ]
    },
    {
      "cell_type": "code",
      "execution_count": null,
      "id": "988c3152",
      "metadata": {
        "colab": {
          "base_uri": "https://localhost:8080/"
        },
        "id": "988c3152",
        "outputId": "0943764a-39eb-43bf-dd27-0c405ae8cfbd"
      },
      "outputs": [
        {
          "output_type": "execute_result",
          "data": {
            "text/plain": [
              "-3"
            ]
          },
          "metadata": {},
          "execution_count": 6
        }
      ],
      "source": [
        "2-5"
      ]
    },
    {
      "cell_type": "code",
      "execution_count": null,
      "id": "348634dc",
      "metadata": {
        "colab": {
          "base_uri": "https://localhost:8080/"
        },
        "id": "348634dc",
        "outputId": "ffb4d333-d787-46e4-fd6f-af7df19b6ef9"
      },
      "outputs": [
        {
          "output_type": "execute_result",
          "data": {
            "text/plain": [
              "25"
            ]
          },
          "metadata": {},
          "execution_count": 7
        }
      ],
      "source": [
        "5 ** 2"
      ]
    },
    {
      "cell_type": "code",
      "execution_count": null,
      "id": "afd974ea",
      "metadata": {
        "colab": {
          "base_uri": "https://localhost:8080/"
        },
        "id": "afd974ea",
        "outputId": "2363e3a6-9996-4579-d74d-195b103f9e63"
      },
      "outputs": [
        {
          "output_type": "execute_result",
          "data": {
            "text/plain": [
              "1"
            ]
          },
          "metadata": {},
          "execution_count": 8
        }
      ],
      "source": [
        "5 % 2"
      ]
    },
    {
      "cell_type": "markdown",
      "id": "312ae062",
      "metadata": {
        "id": "312ae062"
      },
      "source": [
        "# Básicos"
      ]
    },
    {
      "cell_type": "code",
      "execution_count": null,
      "id": "8b560511",
      "metadata": {
        "id": "8b560511"
      },
      "outputs": [],
      "source": [
        "x1 = 10"
      ]
    },
    {
      "cell_type": "code",
      "execution_count": null,
      "id": "beb6c3fd",
      "metadata": {
        "id": "beb6c3fd"
      },
      "outputs": [],
      "source": [
        "x2 = 9.7"
      ]
    },
    {
      "cell_type": "code",
      "execution_count": null,
      "id": "78e61cdf",
      "metadata": {
        "id": "78e61cdf"
      },
      "outputs": [],
      "source": [
        "x3 = \"Python\""
      ]
    },
    {
      "cell_type": "code",
      "execution_count": null,
      "id": "5806e859",
      "metadata": {
        "id": "5806e859"
      },
      "outputs": [],
      "source": [
        "x4 = True"
      ]
    },
    {
      "cell_type": "code",
      "execution_count": null,
      "id": "1e4b1e6e",
      "metadata": {
        "colab": {
          "base_uri": "https://localhost:8080/"
        },
        "id": "1e4b1e6e",
        "outputId": "48026f0a-2d01-4f18-ecb1-ed382e7d4f72"
      },
      "outputs": [
        {
          "output_type": "execute_result",
          "data": {
            "text/plain": [
              "int"
            ]
          },
          "metadata": {},
          "execution_count": 13
        }
      ],
      "source": [
        "type(x1)"
      ]
    },
    {
      "cell_type": "code",
      "execution_count": null,
      "id": "e79e2e13",
      "metadata": {
        "colab": {
          "base_uri": "https://localhost:8080/"
        },
        "id": "e79e2e13",
        "outputId": "d265a64f-8789-464f-ab67-fdc405f554f4"
      },
      "outputs": [
        {
          "output_type": "execute_result",
          "data": {
            "text/plain": [
              "float"
            ]
          },
          "metadata": {},
          "execution_count": 14
        }
      ],
      "source": [
        "type(x2)"
      ]
    },
    {
      "cell_type": "code",
      "execution_count": null,
      "id": "177515a8",
      "metadata": {
        "colab": {
          "base_uri": "https://localhost:8080/"
        },
        "id": "177515a8",
        "outputId": "6bcef7f5-1c94-4a5b-c178-314a538652c4"
      },
      "outputs": [
        {
          "output_type": "execute_result",
          "data": {
            "text/plain": [
              "str"
            ]
          },
          "metadata": {},
          "execution_count": 15
        }
      ],
      "source": [
        "type(x3)"
      ]
    },
    {
      "cell_type": "code",
      "execution_count": null,
      "id": "fd46db4b",
      "metadata": {
        "colab": {
          "base_uri": "https://localhost:8080/"
        },
        "id": "fd46db4b",
        "outputId": "e6248504-ad44-4941-ae75-02d7359e759a"
      },
      "outputs": [
        {
          "output_type": "execute_result",
          "data": {
            "text/plain": [
              "bool"
            ]
          },
          "metadata": {},
          "execution_count": 16
        }
      ],
      "source": [
        "type(x4)"
      ]
    },
    {
      "cell_type": "code",
      "execution_count": null,
      "id": "c4281ad3",
      "metadata": {
        "id": "c4281ad3"
      },
      "outputs": [],
      "source": [
        "x4 = 100"
      ]
    },
    {
      "cell_type": "code",
      "execution_count": null,
      "id": "b137235f",
      "metadata": {
        "colab": {
          "base_uri": "https://localhost:8080/"
        },
        "id": "b137235f",
        "outputId": "230e91aa-7cda-4a77-ec14-f29c6ab316a8"
      },
      "outputs": [
        {
          "output_type": "execute_result",
          "data": {
            "text/plain": [
              "int"
            ]
          },
          "metadata": {},
          "execution_count": 18
        }
      ],
      "source": [
        "type(x4)"
      ]
    },
    {
      "cell_type": "markdown",
      "id": "473cc86f",
      "metadata": {
        "id": "473cc86f"
      },
      "source": [
        "#Identação"
      ]
    },
    {
      "cell_type": "markdown",
      "id": "16be1221",
      "metadata": {
        "id": "16be1221"
      },
      "source": [
        "Não há necessidade de uso de chaves ou ponto-e-vírgula."
      ]
    },
    {
      "cell_type": "code",
      "execution_count": null,
      "id": "1dead61e",
      "metadata": {
        "colab": {
          "base_uri": "https://localhost:8080/"
        },
        "id": "1dead61e",
        "outputId": "065c2f9f-bcdb-494a-b9dd-4d52166d5f7a"
      },
      "outputs": [
        {
          "output_type": "stream",
          "name": "stdout",
          "text": [
            "Par\n"
          ]
        }
      ],
      "source": [
        "x = 10\n",
        "if (x%2==0):\n",
        "  print ('Par')\n",
        "else:\n",
        "  print ('Impar')"
      ]
    },
    {
      "cell_type": "markdown",
      "id": "5c9c9c90",
      "metadata": {
        "id": "5c9c9c90"
      },
      "source": [
        "Código com problema de identação."
      ]
    },
    {
      "cell_type": "code",
      "execution_count": null,
      "id": "ecf66f45",
      "metadata": {
        "colab": {
          "base_uri": "https://localhost:8080/",
          "height": 106
        },
        "id": "ecf66f45",
        "outputId": "5b6a3853-6875-4e9a-9b86-b05d7f32c805"
      },
      "outputs": [
        {
          "output_type": "error",
          "ename": "IndentationError",
          "evalue": "expected an indented block after 'if' statement on line 2 (<ipython-input-9-062058ba9709>, line 3)",
          "traceback": [
            "\u001b[0;36m  File \u001b[0;32m\"<ipython-input-9-062058ba9709>\"\u001b[0;36m, line \u001b[0;32m3\u001b[0m\n\u001b[0;31m    print ('Par')\u001b[0m\n\u001b[0m    ^\u001b[0m\n\u001b[0;31mIndentationError\u001b[0m\u001b[0;31m:\u001b[0m expected an indented block after 'if' statement on line 2\n"
          ]
        }
      ],
      "source": [
        "x = 10\n",
        "if (x%2==0):\n",
        "print ('Par')\n",
        "else:\n",
        "print ('Impar')"
      ]
    },
    {
      "cell_type": "markdown",
      "id": "86cc7ace",
      "metadata": {
        "id": "86cc7ace"
      },
      "source": [
        "#Manipulação de Strings"
      ]
    },
    {
      "cell_type": "code",
      "execution_count": null,
      "id": "538160b1",
      "metadata": {
        "colab": {
          "base_uri": "https://localhost:8080/"
        },
        "id": "538160b1",
        "outputId": "9421e206-be92-4812-c001-a57d1157fbe1"
      },
      "outputs": [
        {
          "output_type": "stream",
          "name": "stdout",
          "text": [
            "Um frase qualquer.\n"
          ]
        }
      ],
      "source": [
        "texto = \"Um frase qualquer.\"\n",
        "\n",
        "print (texto)"
      ]
    },
    {
      "cell_type": "code",
      "source": [
        "texto.split()"
      ],
      "metadata": {
        "colab": {
          "base_uri": "https://localhost:8080/"
        },
        "id": "ECfBcyyso0Ku",
        "outputId": "2fda4ba9-fe63-4ed6-c271-a9f7c28d7190"
      },
      "id": "ECfBcyyso0Ku",
      "execution_count": null,
      "outputs": [
        {
          "output_type": "execute_result",
          "data": {
            "text/plain": [
              "['Um', 'frase', 'qualquer.']"
            ]
          },
          "metadata": {},
          "execution_count": 13
        }
      ]
    },
    {
      "cell_type": "code",
      "execution_count": null,
      "id": "23dcc90e",
      "metadata": {
        "colab": {
          "base_uri": "https://localhost:8080/",
          "height": 35
        },
        "id": "23dcc90e",
        "outputId": "6b1903c5-b3a6-4fb7-a2db-dd62b33086a9"
      },
      "outputs": [
        {
          "output_type": "execute_result",
          "data": {
            "text/plain": [
              "'PYTHON'"
            ],
            "application/vnd.google.colaboratory.intrinsic+json": {
              "type": "string"
            }
          },
          "metadata": {},
          "execution_count": 37
        }
      ],
      "source": [
        "texto.upper()"
      ]
    },
    {
      "cell_type": "markdown",
      "id": "53d086af",
      "metadata": {
        "id": "53d086af"
      },
      "source": [
        "O método `.upper()` do objeto string permite formatar o conteúdo da string."
      ]
    },
    {
      "cell_type": "markdown",
      "id": "c0ff34b6",
      "metadata": {
        "id": "c0ff34b6"
      },
      "source": [
        "#Comentários em Python"
      ]
    },
    {
      "cell_type": "markdown",
      "source": [
        "Comentário em uma única linha\n",
        "\n",
        "*   Começa com o símbolo #\n",
        "*   Tudo que estiver após # na mesma linha será ignorado pelo interpretador.\n"
      ],
      "metadata": {
        "id": "n675GpjR3CZV"
      },
      "id": "n675GpjR3CZV"
    },
    {
      "cell_type": "code",
      "execution_count": null,
      "id": "544b20b5",
      "metadata": {
        "colab": {
          "base_uri": "https://localhost:8080/"
        },
        "id": "544b20b5",
        "outputId": "08b2ee9b-821b-4c38-f406-3a22dd9443bc"
      },
      "outputs": [
        {
          "output_type": "stream",
          "name": "stdout",
          "text": [
            "100\n",
            "102\n"
          ]
        }
      ],
      "source": [
        "x = 100\n",
        "\n",
        "print (x)\n",
        "#print (x+1)\n",
        "print (x+2)"
      ]
    },
    {
      "cell_type": "markdown",
      "source": [
        "Docstrings (comentários descritivos em strings)\n",
        "\n",
        "* Usados para documentar funções, classes ou módulos\n",
        "\n",
        "* São escritos entre três aspas duplas ou simples: \"\"\" ... \"\"\" ou ''' ... '''"
      ],
      "metadata": {
        "id": "ILQls_bB3RGc"
      },
      "id": "ILQls_bB3RGc"
    },
    {
      "cell_type": "code",
      "source": [
        "def saudacao(nome):\n",
        "    \"\"\"\n",
        "    Exibe uma saudação personalizada.\n",
        "\n",
        "    Parâmetros:\n",
        "    nome (str): Nome da pessoa que será saudada.\n",
        "\n",
        "    Retorna:\n",
        "    None\n",
        "    \"\"\"\n",
        "    print(f\"Olá, {nome}!\")"
      ],
      "metadata": {
        "id": "uWcdQ3hv3ipj"
      },
      "id": "uWcdQ3hv3ipj",
      "execution_count": null,
      "outputs": []
    },
    {
      "cell_type": "code",
      "source": [
        "help(saudacao)"
      ],
      "metadata": {
        "colab": {
          "base_uri": "https://localhost:8080/"
        },
        "id": "W-1iPY044CGV",
        "outputId": "854e64f0-8ace-4449-8245-b00741935b87"
      },
      "id": "W-1iPY044CGV",
      "execution_count": null,
      "outputs": [
        {
          "output_type": "stream",
          "name": "stdout",
          "text": [
            "Help on function saudacao in module __main__:\n",
            "\n",
            "saudacao(nome)\n",
            "    Exibe uma saudação personalizada.\n",
            "    \n",
            "    Parâmetros:\n",
            "    nome (str): Nome da pessoa que será saudada.\n",
            "    \n",
            "    Retorna:\n",
            "    None\n",
            "\n"
          ]
        }
      ]
    },
    {
      "cell_type": "code",
      "source": [
        "print(saudacao.__doc__)"
      ],
      "metadata": {
        "colab": {
          "base_uri": "https://localhost:8080/"
        },
        "id": "ddLzvEb84HVY",
        "outputId": "74de2bfd-2314-4010-ad75-9dac4ec5dc8d"
      },
      "id": "ddLzvEb84HVY",
      "execution_count": null,
      "outputs": [
        {
          "output_type": "stream",
          "name": "stdout",
          "text": [
            "\n",
            "    Exibe uma saudação personalizada.\n",
            "    \n",
            "    Parâmetros:\n",
            "    nome (str): Nome da pessoa que será saudada.\n",
            "    \n",
            "    Retorna:\n",
            "    None\n",
            "    \n"
          ]
        }
      ]
    },
    {
      "cell_type": "markdown",
      "source": [
        "## Documentação automática"
      ],
      "metadata": {
        "id": "lgywsyHO4_lN"
      },
      "id": "lgywsyHO4_lN"
    },
    {
      "cell_type": "markdown",
      "id": "ff9fb136",
      "metadata": {
        "id": "ff9fb136"
      },
      "source": [
        "# Convenção de nomes"
      ]
    },
    {
      "cell_type": "markdown",
      "source": [
        "Em Python, a convenção de nomes (*naming convention*) segue um conjunto de diretrizes definido no documento oficial chamado PEP 8 (Python Enhancement Proposal 8). Esse documento serve como guia de estilo para escrever código Python legível, consistente e Pythonic."
      ],
      "metadata": {
        "id": "7xfIbP6Z6mXe"
      },
      "id": "7xfIbP6Z6mXe"
    },
    {
      "cell_type": "markdown",
      "source": [
        "**snake_case**\n",
        "\n",
        "* Usado para nomes de variáveis, funções e métodos"
      ],
      "metadata": {
        "id": "L-CWigTR7AE7"
      },
      "id": "L-CWigTR7AE7"
    },
    {
      "cell_type": "markdown",
      "id": "5d818102",
      "metadata": {
        "id": "5d818102"
      },
      "source": [
        "Variável"
      ]
    },
    {
      "cell_type": "code",
      "execution_count": null,
      "id": "7656db69",
      "metadata": {
        "id": "7656db69"
      },
      "outputs": [],
      "source": [
        "nome_restaurante = \"Banzeiro\""
      ]
    },
    {
      "cell_type": "markdown",
      "id": "5ff11583",
      "metadata": {
        "id": "5ff11583"
      },
      "source": [
        "Função"
      ]
    },
    {
      "cell_type": "code",
      "execution_count": null,
      "id": "36f76bb2",
      "metadata": {
        "id": "36f76bb2"
      },
      "outputs": [],
      "source": [
        "def converte_nome (nome):\n",
        "  return (nome.upper())"
      ]
    },
    {
      "cell_type": "markdown",
      "source": [
        "**UPPER_CASE**\n",
        "\n",
        "* Usado para constantes"
      ],
      "metadata": {
        "id": "uLne1sv27JcI"
      },
      "id": "uLne1sv27JcI"
    },
    {
      "cell_type": "code",
      "source": [
        "PI = 3.14159\n",
        "TAXA_CAMBIO = 5.37"
      ],
      "metadata": {
        "id": "29iNN4wH7O_1"
      },
      "id": "29iNN4wH7O_1",
      "execution_count": null,
      "outputs": []
    },
    {
      "cell_type": "markdown",
      "source": [
        "**CamelCase / PascalCase**\n",
        "\n",
        "* Usado para nomes de classes"
      ],
      "metadata": {
        "id": "yFJmlz3m7jAK"
      },
      "id": "yFJmlz3m7jAK"
    },
    {
      "cell_type": "markdown",
      "id": "9dd1109f",
      "metadata": {
        "id": "9dd1109f"
      },
      "source": [
        "Classe"
      ]
    },
    {
      "cell_type": "code",
      "execution_count": null,
      "id": "04655f51",
      "metadata": {
        "id": "04655f51"
      },
      "outputs": [],
      "source": [
        "class CienciaDados:\n",
        "  nome = \"Tiago\""
      ]
    },
    {
      "cell_type": "markdown",
      "id": "47ec4d99",
      "metadata": {
        "id": "47ec4d99"
      },
      "source": [
        "Convenção de nomes para **pacotes** em Python (segundo a PEP 8):\n",
        "\n",
        "* Sempre em letras minúsculas\n",
        "\n",
        "* Sem espaços ou caracteres especiais\n",
        "\n",
        "* Se necessário, use sublinhado (_), mas evite se possível"
      ]
    },
    {
      "cell_type": "code",
      "execution_count": null,
      "id": "ecd00131",
      "metadata": {
        "id": "ecd00131"
      },
      "outputs": [],
      "source": [
        "import numpy\n",
        "import matplotlib"
      ]
    },
    {
      "cell_type": "markdown",
      "id": "408315e8",
      "metadata": {
        "id": "408315e8"
      },
      "source": [
        "# Operador Lógico"
      ]
    },
    {
      "cell_type": "markdown",
      "source": [
        "## Lógica booleana: operadores básicos"
      ],
      "metadata": {
        "id": "FqdMANx59J5c"
      },
      "id": "FqdMANx59J5c"
    },
    {
      "cell_type": "markdown",
      "source": [
        "![image.png](data:image/png;base64,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)"
      ],
      "metadata": {
        "id": "wXqixqNi81_5"
      },
      "id": "wXqixqNi81_5"
    },
    {
      "cell_type": "markdown",
      "source": [
        "## Teste de identidade de tipos"
      ],
      "metadata": {
        "id": "yzXvWEhn9tQI"
      },
      "id": "yzXvWEhn9tQI"
    },
    {
      "cell_type": "code",
      "execution_count": null,
      "id": "55640361",
      "metadata": {
        "colab": {
          "base_uri": "https://localhost:8080/"
        },
        "id": "55640361",
        "outputId": "33755586-b07b-40c0-d85c-984a40f11bbc"
      },
      "outputs": [
        {
          "output_type": "execute_result",
          "data": {
            "text/plain": [
              "True"
            ]
          },
          "metadata": {},
          "execution_count": 43
        }
      ],
      "source": [
        "nome = \"João\"\n",
        "type(nome) is str"
      ]
    },
    {
      "cell_type": "code",
      "execution_count": null,
      "id": "ad677d71",
      "metadata": {
        "colab": {
          "base_uri": "https://localhost:8080/"
        },
        "id": "ad677d71",
        "outputId": "c284f4e1-032f-4349-aa5c-42e30ba2661b"
      },
      "outputs": [
        {
          "output_type": "execute_result",
          "data": {
            "text/plain": [
              "True"
            ]
          },
          "metadata": {},
          "execution_count": 44
        }
      ],
      "source": [
        "type(nome) is not False"
      ]
    },
    {
      "cell_type": "markdown",
      "id": "41977a6d",
      "metadata": {
        "id": "41977a6d"
      },
      "source": [
        "#Tuplas"
      ]
    },
    {
      "cell_type": "code",
      "execution_count": null,
      "id": "9ddf0179",
      "metadata": {
        "id": "9ddf0179"
      },
      "outputs": [],
      "source": [
        "tupla1 = ('casa', 1, True)"
      ]
    },
    {
      "cell_type": "markdown",
      "id": "d573f041",
      "metadata": {
        "id": "d573f041"
      },
      "source": [
        "A função `tuple()` cria uma tupla vazia."
      ]
    },
    {
      "cell_type": "code",
      "execution_count": null,
      "id": "88e6fe26",
      "metadata": {
        "id": "88e6fe26"
      },
      "outputs": [],
      "source": [
        "tupla2 = tuple()"
      ]
    },
    {
      "cell_type": "code",
      "execution_count": null,
      "id": "9e53d712",
      "metadata": {
        "colab": {
          "base_uri": "https://localhost:8080/"
        },
        "id": "9e53d712",
        "outputId": "6527d147-5589-4f18-8a7d-aac78a073706"
      },
      "outputs": [
        {
          "output_type": "stream",
          "name": "stdout",
          "text": [
            "<class 'tuple'>\n"
          ]
        }
      ],
      "source": [
        "print (type(tupla2))"
      ]
    },
    {
      "cell_type": "code",
      "execution_count": null,
      "id": "2b53e7ff",
      "metadata": {
        "colab": {
          "base_uri": "https://localhost:8080/"
        },
        "id": "2b53e7ff",
        "outputId": "345ccbad-4cfe-4fa5-9347-1ecaccf2a95a"
      },
      "outputs": [
        {
          "output_type": "stream",
          "name": "stdout",
          "text": [
            "()\n"
          ]
        }
      ],
      "source": [
        "print (tupla2)"
      ]
    },
    {
      "cell_type": "markdown",
      "id": "f3f2774c",
      "metadata": {
        "id": "f3f2774c"
      },
      "source": [
        "A função `tuple()` aceita objetos iteráveis (*iterable*)."
      ]
    },
    {
      "cell_type": "code",
      "execution_count": null,
      "id": "070e50ce",
      "metadata": {
        "colab": {
          "base_uri": "https://localhost:8080/"
        },
        "id": "070e50ce",
        "outputId": "8cce3e14-4b16-4627-9641-94e4b77884a1"
      },
      "outputs": [
        {
          "output_type": "stream",
          "name": "stdout",
          "text": [
            "(2, 3, 4)\n"
          ]
        }
      ],
      "source": [
        "lista = [2, 3, 4]\n",
        "\n",
        "tupla3 = tuple(lista)\n",
        "\n",
        "print (tupla3)"
      ]
    },
    {
      "cell_type": "markdown",
      "id": "387fb472",
      "metadata": {
        "id": "387fb472"
      },
      "source": [
        "O parâmetro deve ser um objeto iterable."
      ]
    },
    {
      "cell_type": "code",
      "execution_count": null,
      "id": "d8da12e4",
      "metadata": {
        "colab": {
          "base_uri": "https://localhost:8080/",
          "height": 144
        },
        "id": "d8da12e4",
        "outputId": "c2781dcd-78eb-4acc-833d-4c910e30d59b"
      },
      "outputs": [
        {
          "output_type": "error",
          "ename": "TypeError",
          "evalue": "'int' object is not iterable",
          "traceback": [
            "\u001b[0;31m---------------------------------------------------------------------------\u001b[0m",
            "\u001b[0;31mTypeError\u001b[0m                                 Traceback (most recent call last)",
            "\u001b[0;32m<ipython-input-50-7b9ca0c405f1>\u001b[0m in \u001b[0;36m<cell line: 0>\u001b[0;34m()\u001b[0m\n\u001b[0;32m----> 1\u001b[0;31m \u001b[0mtupla4\u001b[0m \u001b[0;34m=\u001b[0m \u001b[0mtuple\u001b[0m\u001b[0;34m(\u001b[0m\u001b[0;36m10\u001b[0m\u001b[0;34m)\u001b[0m\u001b[0;34m\u001b[0m\u001b[0;34m\u001b[0m\u001b[0m\n\u001b[0m",
            "\u001b[0;31mTypeError\u001b[0m: 'int' object is not iterable"
          ]
        }
      ],
      "source": [
        "tupla4 = tuple(10)"
      ]
    },
    {
      "cell_type": "markdown",
      "id": "84ea5cee",
      "metadata": {
        "id": "84ea5cee"
      },
      "source": [
        "O acesso é realizado através de índices."
      ]
    },
    {
      "cell_type": "code",
      "execution_count": null,
      "id": "caff5938",
      "metadata": {
        "id": "caff5938"
      },
      "outputs": [],
      "source": [
        "tupla5 = ('casa', 1, True)\n",
        "\n",
        "tupla5[2]"
      ]
    },
    {
      "cell_type": "markdown",
      "id": "a41c97a8",
      "metadata": {
        "id": "a41c97a8"
      },
      "source": [
        "As tuplas são objetos. Portanto, podemos usar métodos desses objetos."
      ]
    },
    {
      "cell_type": "code",
      "execution_count": null,
      "id": "43aabf04",
      "metadata": {
        "id": "43aabf04"
      },
      "outputs": [],
      "source": [
        "tupla6 = ('casa', 10, 10, 10.1)\n",
        "\n",
        "tupla6.count(10)"
      ]
    },
    {
      "cell_type": "markdown",
      "id": "0e70d37a",
      "metadata": {
        "id": "0e70d37a"
      },
      "source": [
        "#Listas"
      ]
    },
    {
      "cell_type": "code",
      "execution_count": null,
      "id": "6e4ded41",
      "metadata": {
        "id": "6e4ded41"
      },
      "outputs": [],
      "source": [
        "lista1 = [10, 3, True, 'casa']"
      ]
    },
    {
      "cell_type": "markdown",
      "id": "d7c0249f",
      "metadata": {
        "id": "d7c0249f"
      },
      "source": [
        "Uso da função `list( )`"
      ]
    },
    {
      "cell_type": "code",
      "execution_count": null,
      "id": "95e4614e",
      "metadata": {
        "id": "95e4614e"
      },
      "outputs": [],
      "source": [
        "lista2 = list(('10', 3, True))\n",
        "\n",
        "lista2"
      ]
    },
    {
      "cell_type": "markdown",
      "id": "223fde5a",
      "metadata": {
        "id": "223fde5a"
      },
      "source": [
        "Função `append( )`"
      ]
    },
    {
      "cell_type": "code",
      "execution_count": null,
      "id": "a030c900",
      "metadata": {
        "id": "a030c900"
      },
      "outputs": [],
      "source": [
        "lista3 = [1, 3, 5]\n",
        "\n",
        "print (lista3)"
      ]
    },
    {
      "cell_type": "code",
      "execution_count": null,
      "id": "cef0b213",
      "metadata": {
        "id": "cef0b213"
      },
      "outputs": [],
      "source": [
        "lista3.append(50)\n",
        "\n",
        "print (lista3)"
      ]
    },
    {
      "cell_type": "markdown",
      "id": "5edd8353",
      "metadata": {
        "id": "5edd8353"
      },
      "source": [
        "Função `insert (i, valor)`"
      ]
    },
    {
      "cell_type": "code",
      "execution_count": null,
      "id": "bcb37f89",
      "metadata": {
        "id": "bcb37f89",
        "colab": {
          "base_uri": "https://localhost:8080/"
        },
        "outputId": "6b3370df-bbb9-4b6e-97a5-d0cb5cc86333"
      },
      "outputs": [
        {
          "output_type": "stream",
          "name": "stdout",
          "text": [
            "[1, 3, 4]\n"
          ]
        }
      ],
      "source": [
        "lista4 = [1, 3, 4]\n",
        "\n",
        "print (lista4)"
      ]
    },
    {
      "cell_type": "code",
      "execution_count": null,
      "id": "7291e8fd",
      "metadata": {
        "id": "7291e8fd",
        "colab": {
          "base_uri": "https://localhost:8080/"
        },
        "outputId": "6e5ecd9e-467b-46ac-9f42-e1814058852a"
      },
      "outputs": [
        {
          "output_type": "stream",
          "name": "stdout",
          "text": [
            "[1, 3, 4, 'casa']\n"
          ]
        }
      ],
      "source": [
        "lista4.insert(3, 'casa')\n",
        "\n",
        "print (lista4)"
      ]
    },
    {
      "cell_type": "markdown",
      "id": "fd4ac037",
      "metadata": {
        "id": "fd4ac037"
      },
      "source": [
        "O que acontece ao inserir o elemento em uma posição já existente na lista?"
      ]
    },
    {
      "cell_type": "code",
      "execution_count": null,
      "id": "05a46c24",
      "metadata": {
        "id": "05a46c24"
      },
      "outputs": [],
      "source": [
        "lista4.insert(0, 50)"
      ]
    },
    {
      "cell_type": "code",
      "execution_count": null,
      "id": "dadd0c83",
      "metadata": {
        "id": "dadd0c83",
        "colab": {
          "base_uri": "https://localhost:8080/"
        },
        "outputId": "37bcbdd6-4480-479a-cb34-3a64375e3aec"
      },
      "outputs": [
        {
          "output_type": "stream",
          "name": "stdout",
          "text": [
            "[50, 1, 3, 4, 'casa']\n"
          ]
        }
      ],
      "source": [
        "print (lista4)"
      ]
    },
    {
      "cell_type": "markdown",
      "id": "8ecc1261",
      "metadata": {
        "id": "8ecc1261"
      },
      "source": [
        "O que acontece ao inserir o elemento em uma posição além do último elemento?"
      ]
    },
    {
      "cell_type": "code",
      "execution_count": null,
      "id": "524d864a",
      "metadata": {
        "id": "524d864a"
      },
      "outputs": [],
      "source": [
        "lista4.insert(10, 'carro')"
      ]
    },
    {
      "cell_type": "code",
      "execution_count": null,
      "id": "ad787990",
      "metadata": {
        "id": "ad787990",
        "colab": {
          "base_uri": "https://localhost:8080/"
        },
        "outputId": "03bff3fc-04fb-4f67-bb28-ed0f1883f986"
      },
      "outputs": [
        {
          "output_type": "stream",
          "name": "stdout",
          "text": [
            "[50, 1, 3, 4, 'casa', 'carro']\n"
          ]
        }
      ],
      "source": [
        "print (lista4)"
      ]
    },
    {
      "cell_type": "markdown",
      "id": "8dff81fc",
      "metadata": {
        "id": "8dff81fc"
      },
      "source": [
        "Função `pop(i)`"
      ]
    },
    {
      "cell_type": "code",
      "execution_count": null,
      "id": "e60fd8d5",
      "metadata": {
        "id": "e60fd8d5"
      },
      "outputs": [],
      "source": [
        "lista5 = [10, 20, 30, 40, 50]"
      ]
    },
    {
      "cell_type": "code",
      "execution_count": null,
      "id": "a8a248b9",
      "metadata": {
        "id": "a8a248b9",
        "colab": {
          "base_uri": "https://localhost:8080/"
        },
        "outputId": "31db263c-9ca3-4cd3-910f-663c7afb509e"
      },
      "outputs": [
        {
          "output_type": "execute_result",
          "data": {
            "text/plain": [
              "40"
            ]
          },
          "metadata": {},
          "execution_count": 22
        }
      ],
      "source": [
        "lista5.pop(3)"
      ]
    },
    {
      "cell_type": "code",
      "execution_count": null,
      "id": "c2d04524",
      "metadata": {
        "id": "c2d04524",
        "colab": {
          "base_uri": "https://localhost:8080/"
        },
        "outputId": "7fadd761-168d-44a9-f51d-a0effe3da83e"
      },
      "outputs": [
        {
          "output_type": "stream",
          "name": "stdout",
          "text": [
            "[10, 20, 30, 50]\n"
          ]
        }
      ],
      "source": [
        "print (lista5)"
      ]
    },
    {
      "cell_type": "markdown",
      "id": "586d782d",
      "metadata": {
        "id": "586d782d"
      },
      "source": [
        "O que acontece ao tentar remover um elemento de uma posição inexistente da lista?"
      ]
    },
    {
      "cell_type": "code",
      "execution_count": null,
      "id": "7b2c87df",
      "metadata": {
        "id": "7b2c87df",
        "colab": {
          "base_uri": "https://localhost:8080/",
          "height": 141
        },
        "outputId": "efe0d6e9-077c-4339-d3b7-de71f4fc7efd"
      },
      "outputs": [
        {
          "output_type": "error",
          "ename": "IndexError",
          "evalue": "pop index out of range",
          "traceback": [
            "\u001b[0;31m---------------------------------------------------------------------------\u001b[0m",
            "\u001b[0;31mIndexError\u001b[0m                                Traceback (most recent call last)",
            "\u001b[0;32m<ipython-input-24-f8a1c416efbd>\u001b[0m in \u001b[0;36m<cell line: 0>\u001b[0;34m()\u001b[0m\n\u001b[0;32m----> 1\u001b[0;31m \u001b[0mlista5\u001b[0m\u001b[0;34m.\u001b[0m\u001b[0mpop\u001b[0m\u001b[0;34m(\u001b[0m\u001b[0;36m10\u001b[0m\u001b[0;34m)\u001b[0m\u001b[0;34m\u001b[0m\u001b[0;34m\u001b[0m\u001b[0m\n\u001b[0m",
            "\u001b[0;31mIndexError\u001b[0m: pop index out of range"
          ]
        }
      ],
      "source": [
        "lista5.pop(10)"
      ]
    },
    {
      "cell_type": "markdown",
      "id": "e27034f8",
      "metadata": {
        "id": "e27034f8"
      },
      "source": [
        "Função `reverse( )`"
      ]
    },
    {
      "cell_type": "code",
      "execution_count": null,
      "id": "46c7aaf1",
      "metadata": {
        "id": "46c7aaf1"
      },
      "outputs": [],
      "source": [
        "lista6 = [10, 20, 30, 40, 50]"
      ]
    },
    {
      "cell_type": "code",
      "execution_count": null,
      "id": "5fa78b26",
      "metadata": {
        "id": "5fa78b26",
        "colab": {
          "base_uri": "https://localhost:8080/"
        },
        "outputId": "afd51416-fea6-4e02-fe1b-61ab20438279"
      },
      "outputs": [
        {
          "output_type": "stream",
          "name": "stdout",
          "text": [
            "[10, 20, 30, 40, 50]\n"
          ]
        }
      ],
      "source": [
        "print (lista6)"
      ]
    },
    {
      "cell_type": "code",
      "execution_count": null,
      "id": "caaa0a3e",
      "metadata": {
        "id": "caaa0a3e"
      },
      "outputs": [],
      "source": [
        "lista6.reverse()"
      ]
    },
    {
      "cell_type": "code",
      "execution_count": null,
      "id": "e9a88094",
      "metadata": {
        "id": "e9a88094",
        "colab": {
          "base_uri": "https://localhost:8080/"
        },
        "outputId": "8ccfdf01-ef6a-4105-efac-b40d1fc9905d"
      },
      "outputs": [
        {
          "output_type": "stream",
          "name": "stdout",
          "text": [
            "[50, 40, 30, 20, 10]\n"
          ]
        }
      ],
      "source": [
        "print (lista6)"
      ]
    },
    {
      "cell_type": "markdown",
      "id": "03bcbbe4",
      "metadata": {
        "id": "03bcbbe4"
      },
      "source": [
        "Função `extend( )`"
      ]
    },
    {
      "cell_type": "code",
      "execution_count": null,
      "id": "a4f6fe93",
      "metadata": {
        "id": "a4f6fe93"
      },
      "outputs": [],
      "source": [
        "lista7 = [10, 20, 30]\n",
        "\n",
        "lista8 = [40, 50]"
      ]
    },
    {
      "cell_type": "code",
      "execution_count": null,
      "id": "d02544bd",
      "metadata": {
        "id": "d02544bd"
      },
      "outputs": [],
      "source": [
        "print (lista7)"
      ]
    },
    {
      "cell_type": "code",
      "execution_count": null,
      "id": "4215dd30",
      "metadata": {
        "id": "4215dd30"
      },
      "outputs": [],
      "source": [
        "lista7.extend(lista8)"
      ]
    },
    {
      "cell_type": "code",
      "execution_count": null,
      "id": "3ce5e04f",
      "metadata": {
        "id": "3ce5e04f"
      },
      "outputs": [],
      "source": [
        "print (lista7)"
      ]
    },
    {
      "cell_type": "markdown",
      "id": "9093e970",
      "metadata": {
        "id": "9093e970"
      },
      "source": [
        "Qual seria a diferença entre as operações `extend( )` e `append( )`?"
      ]
    },
    {
      "cell_type": "code",
      "execution_count": null,
      "id": "084583f7",
      "metadata": {
        "id": "084583f7"
      },
      "outputs": [],
      "source": [
        "lista7 = [10, 20, 30]\n",
        "\n",
        "lista8 = [40, 50]\n",
        "\n",
        "lista7.append(lista8)"
      ]
    },
    {
      "cell_type": "code",
      "execution_count": null,
      "id": "b98f66a0",
      "metadata": {
        "id": "b98f66a0",
        "colab": {
          "base_uri": "https://localhost:8080/"
        },
        "outputId": "b731e01d-5bec-4c0c-8f26-a1090f2dd4bd"
      },
      "outputs": [
        {
          "output_type": "stream",
          "name": "stdout",
          "text": [
            "[10, 20, 30, [40, 50]]\n"
          ]
        }
      ],
      "source": [
        "print (lista7)"
      ]
    },
    {
      "cell_type": "markdown",
      "id": "d9a18f5e",
      "metadata": {
        "id": "d9a18f5e"
      },
      "source": [
        "A função `extend( )` equivale a operação de `+`"
      ]
    },
    {
      "cell_type": "code",
      "execution_count": null,
      "id": "50f5ed84",
      "metadata": {
        "id": "50f5ed84"
      },
      "outputs": [],
      "source": [
        "lista9 = [10, 20]\n",
        "lista10 = [30, 40]\n",
        "\n",
        "lista11 = lista9 + lista10"
      ]
    },
    {
      "cell_type": "code",
      "execution_count": null,
      "id": "146d39bd",
      "metadata": {
        "id": "146d39bd",
        "colab": {
          "base_uri": "https://localhost:8080/"
        },
        "outputId": "95636efe-a4fc-4a6b-ccb2-40c9a966900a"
      },
      "outputs": [
        {
          "output_type": "stream",
          "name": "stdout",
          "text": [
            "[10, 20, 30, 40]\n"
          ]
        }
      ],
      "source": [
        "print (lista11)"
      ]
    },
    {
      "cell_type": "markdown",
      "id": "fd11769c",
      "metadata": {
        "id": "fd11769c"
      },
      "source": [
        "A função `index( )` retorna o índice (posição) de um valor passado como parâmetro."
      ]
    },
    {
      "cell_type": "code",
      "execution_count": null,
      "id": "24df13c3",
      "metadata": {
        "id": "24df13c3"
      },
      "outputs": [],
      "source": [
        "lista12 = [10, 20, 30, 40]"
      ]
    },
    {
      "cell_type": "code",
      "execution_count": null,
      "id": "9da43709",
      "metadata": {
        "id": "9da43709",
        "colab": {
          "base_uri": "https://localhost:8080/"
        },
        "outputId": "bed87689-629b-4a16-e1d8-e2ea973b1c0b"
      },
      "outputs": [
        {
          "output_type": "stream",
          "name": "stdout",
          "text": [
            "3\n"
          ]
        }
      ],
      "source": [
        "print (lista12.index(40))"
      ]
    },
    {
      "cell_type": "markdown",
      "id": "c2e3a2ab",
      "metadata": {
        "id": "c2e3a2ab"
      },
      "source": [
        "E se o elemento não estiver na lista?"
      ]
    },
    {
      "cell_type": "code",
      "execution_count": null,
      "id": "ea3f20fa",
      "metadata": {
        "id": "ea3f20fa",
        "colab": {
          "base_uri": "https://localhost:8080/",
          "height": 141
        },
        "outputId": "d133a667-b99c-4015-9f86-3548ba9b620e"
      },
      "outputs": [
        {
          "output_type": "error",
          "ename": "ValueError",
          "evalue": "50 is not in list",
          "traceback": [
            "\u001b[0;31m---------------------------------------------------------------------------\u001b[0m",
            "\u001b[0;31mValueError\u001b[0m                                Traceback (most recent call last)",
            "\u001b[0;32m<ipython-input-35-007f1da5e20a>\u001b[0m in \u001b[0;36m<cell line: 0>\u001b[0;34m()\u001b[0m\n\u001b[0;32m----> 1\u001b[0;31m \u001b[0mprint\u001b[0m \u001b[0;34m(\u001b[0m\u001b[0mlista12\u001b[0m\u001b[0;34m.\u001b[0m\u001b[0mindex\u001b[0m\u001b[0;34m(\u001b[0m\u001b[0;36m50\u001b[0m\u001b[0;34m)\u001b[0m\u001b[0;34m)\u001b[0m\u001b[0;34m\u001b[0m\u001b[0;34m\u001b[0m\u001b[0m\n\u001b[0m",
            "\u001b[0;31mValueError\u001b[0m: 50 is not in list"
          ]
        }
      ],
      "source": [
        "print (lista12.index(50))"
      ]
    },
    {
      "cell_type": "markdown",
      "id": "299ac0f3",
      "metadata": {
        "id": "299ac0f3"
      },
      "source": [
        "A função `count( )` retona o número de ocorrências de um valor da lista passado como parâmetro."
      ]
    },
    {
      "cell_type": "code",
      "execution_count": null,
      "id": "f6ca3932",
      "metadata": {
        "id": "f6ca3932"
      },
      "outputs": [],
      "source": [
        "lista13 = [10, 20, 30, 10, 10]"
      ]
    },
    {
      "cell_type": "code",
      "execution_count": null,
      "id": "963e5417",
      "metadata": {
        "id": "963e5417",
        "colab": {
          "base_uri": "https://localhost:8080/"
        },
        "outputId": "9db0cc27-bdb1-452d-8955-d4b0195f4b0e"
      },
      "outputs": [
        {
          "output_type": "execute_result",
          "data": {
            "text/plain": [
              "3"
            ]
          },
          "metadata": {},
          "execution_count": 37
        }
      ],
      "source": [
        "lista13.count(10)"
      ]
    },
    {
      "cell_type": "markdown",
      "id": "865d3725",
      "metadata": {
        "id": "865d3725"
      },
      "source": [
        "A função `remove( )` remove a primeira ocorrência do valor passado como parâmetro."
      ]
    },
    {
      "cell_type": "code",
      "execution_count": null,
      "id": "405faecb",
      "metadata": {
        "id": "405faecb"
      },
      "outputs": [],
      "source": [
        "lista14 = [10, 20, 30, 10, 10]"
      ]
    },
    {
      "cell_type": "code",
      "execution_count": null,
      "id": "b5d9555a",
      "metadata": {
        "id": "b5d9555a"
      },
      "outputs": [],
      "source": [
        "lista14.remove(10)"
      ]
    },
    {
      "cell_type": "code",
      "execution_count": null,
      "id": "097bf369",
      "metadata": {
        "id": "097bf369",
        "colab": {
          "base_uri": "https://localhost:8080/"
        },
        "outputId": "7410b85b-2f90-423c-dd12-6d02b3b7b6b6"
      },
      "outputs": [
        {
          "output_type": "stream",
          "name": "stdout",
          "text": [
            "[20, 30, 10, 10]\n"
          ]
        }
      ],
      "source": [
        "print (lista14)"
      ]
    },
    {
      "cell_type": "markdown",
      "id": "5b7da5f8",
      "metadata": {
        "id": "5b7da5f8"
      },
      "source": [
        "Fatiamento das listas"
      ]
    },
    {
      "cell_type": "code",
      "execution_count": null,
      "id": "3ad77a26",
      "metadata": {
        "id": "3ad77a26"
      },
      "outputs": [],
      "source": [
        "lista15 = [10, 20, 30, 40, 50]"
      ]
    },
    {
      "cell_type": "code",
      "execution_count": null,
      "id": "54082bca",
      "metadata": {
        "id": "54082bca",
        "colab": {
          "base_uri": "https://localhost:8080/"
        },
        "outputId": "ab096d9f-f437-4447-e194-a3cd926f8581"
      },
      "outputs": [
        {
          "output_type": "execute_result",
          "data": {
            "text/plain": [
              "[30, 40]"
            ]
          },
          "metadata": {},
          "execution_count": 42
        }
      ],
      "source": [
        "lista15[2:4]"
      ]
    },
    {
      "cell_type": "markdown",
      "id": "a2755bad",
      "metadata": {
        "id": "a2755bad"
      },
      "source": [
        "Uso de índices negativos"
      ]
    },
    {
      "cell_type": "code",
      "execution_count": null,
      "id": "f5187df2",
      "metadata": {
        "id": "f5187df2"
      },
      "outputs": [],
      "source": [
        "lista16 = [10, 20, 30, 40, 50]"
      ]
    },
    {
      "cell_type": "code",
      "execution_count": null,
      "id": "cd04804d",
      "metadata": {
        "id": "cd04804d",
        "colab": {
          "base_uri": "https://localhost:8080/"
        },
        "outputId": "775722ee-e90d-4816-b684-3a1aff0def69"
      },
      "outputs": [
        {
          "output_type": "execute_result",
          "data": {
            "text/plain": [
              "50"
            ]
          },
          "metadata": {},
          "execution_count": 44
        }
      ],
      "source": [
        "lista16[-1]"
      ]
    },
    {
      "cell_type": "markdown",
      "id": "0c60fd4c",
      "metadata": {
        "id": "0c60fd4c"
      },
      "source": [
        "A declaração de uma variável do tipo string pode ser feita de três modos:\n",
        "\n",
        "string1 = 'Curso de Ciencia de Dados'\n",
        "\n",
        "string2 = \"Curso de Ciencia de Dados\""
      ]
    },
    {
      "cell_type": "code",
      "execution_count": null,
      "id": "61887a3c",
      "metadata": {
        "id": "61887a3c"
      },
      "outputs": [],
      "source": [
        "string1 = 'Curso de Ciencia de Dados'\n",
        "string2 = \"Curso de Ciencia de Dados\""
      ]
    },
    {
      "cell_type": "markdown",
      "id": "63ae7cb7",
      "metadata": {
        "id": "63ae7cb7"
      },
      "source": [
        "Exemplos de usos de operações de listas em strings:"
      ]
    },
    {
      "cell_type": "code",
      "execution_count": null,
      "id": "a9237d12",
      "metadata": {
        "id": "a9237d12",
        "colab": {
          "base_uri": "https://localhost:8080/"
        },
        "outputId": "21b95745-0402-4c46-abeb-4a0f5387dd49"
      },
      "outputs": [
        {
          "output_type": "execute_result",
          "data": {
            "text/plain": [
              "str"
            ]
          },
          "metadata": {},
          "execution_count": 46
        }
      ],
      "source": [
        "type(string1)"
      ]
    },
    {
      "cell_type": "code",
      "execution_count": null,
      "id": "e413f793",
      "metadata": {
        "id": "e413f793"
      },
      "outputs": [],
      "source": [
        "l = string1.split()"
      ]
    },
    {
      "cell_type": "code",
      "execution_count": null,
      "id": "0289a671",
      "metadata": {
        "id": "0289a671",
        "colab": {
          "base_uri": "https://localhost:8080/"
        },
        "outputId": "aecdb62e-6b6c-4fb4-c2e3-7bd9d875b4c1"
      },
      "outputs": [
        {
          "output_type": "stream",
          "name": "stdout",
          "text": [
            "<class 'list'>\n"
          ]
        }
      ],
      "source": [
        "print (type(l))"
      ]
    },
    {
      "cell_type": "code",
      "execution_count": null,
      "id": "e5c58f5b",
      "metadata": {
        "id": "e5c58f5b",
        "colab": {
          "base_uri": "https://localhost:8080/"
        },
        "outputId": "3af900a0-c49c-477c-b42a-08ffbae01da5"
      },
      "outputs": [
        {
          "output_type": "stream",
          "name": "stdout",
          "text": [
            "['Curso', 'de', 'Ciencia', 'de', 'Dados']\n"
          ]
        }
      ],
      "source": [
        "print (l)"
      ]
    },
    {
      "cell_type": "markdown",
      "id": "ece41d7d",
      "metadata": {
        "id": "ece41d7d"
      },
      "source": [
        "#Dicionários"
      ]
    },
    {
      "cell_type": "markdown",
      "id": "6b0c4337",
      "metadata": {
        "id": "6b0c4337"
      },
      "source": [
        "Exemplo de criação de um dicionário:"
      ]
    },
    {
      "cell_type": "code",
      "execution_count": null,
      "id": "793eebd0",
      "metadata": {
        "id": "793eebd0"
      },
      "outputs": [],
      "source": [
        "dict1 = {'name': 'Bob', 'age': 25, 'job':'Dev', 'city':'New York', 'email':'bob@web.com'}"
      ]
    },
    {
      "cell_type": "code",
      "execution_count": null,
      "id": "1aa89f1d",
      "metadata": {
        "id": "1aa89f1d",
        "colab": {
          "base_uri": "https://localhost:8080/"
        },
        "outputId": "bb126b46-e368-4878-bb11-1a61713194c9"
      },
      "outputs": [
        {
          "output_type": "stream",
          "name": "stdout",
          "text": [
            "{'name': 'Bob', 'age': 25, 'job': 'Dev', 'city': 'New York', 'email': 'bob@web.com'}\n"
          ]
        }
      ],
      "source": [
        "print (dict1)"
      ]
    },
    {
      "cell_type": "markdown",
      "id": "cbfa06d0",
      "metadata": {
        "id": "cbfa06d0"
      },
      "source": [
        "Checar o tipo:"
      ]
    },
    {
      "cell_type": "code",
      "execution_count": null,
      "id": "851656a5",
      "metadata": {
        "id": "851656a5",
        "colab": {
          "base_uri": "https://localhost:8080/"
        },
        "outputId": "d90cddb6-ef70-413b-b53c-a22dfb6cf4f4"
      },
      "outputs": [
        {
          "output_type": "execute_result",
          "data": {
            "text/plain": [
              "dict"
            ]
          },
          "metadata": {},
          "execution_count": 52
        }
      ],
      "source": [
        "type(dict1)"
      ]
    },
    {
      "cell_type": "markdown",
      "id": "a0c5b27e",
      "metadata": {
        "id": "a0c5b27e"
      },
      "source": [
        "Forma de acesso a um elemento da estrutura:"
      ]
    },
    {
      "cell_type": "code",
      "execution_count": null,
      "id": "18e8081c",
      "metadata": {
        "id": "18e8081c",
        "colab": {
          "base_uri": "https://localhost:8080/",
          "height": 35
        },
        "outputId": "12497ff9-16c0-41f5-8288-f38b35ada53a"
      },
      "outputs": [
        {
          "output_type": "execute_result",
          "data": {
            "text/plain": [
              "'New York'"
            ],
            "application/vnd.google.colaboratory.intrinsic+json": {
              "type": "string"
            }
          },
          "metadata": {},
          "execution_count": 53
        }
      ],
      "source": [
        "dict1['city']"
      ]
    },
    {
      "cell_type": "markdown",
      "id": "257fb5ff",
      "metadata": {
        "id": "257fb5ff"
      },
      "source": [
        "Exibir todas as chaves de um dicionário:"
      ]
    },
    {
      "cell_type": "code",
      "execution_count": null,
      "id": "c6d38d94",
      "metadata": {
        "id": "c6d38d94",
        "colab": {
          "base_uri": "https://localhost:8080/"
        },
        "outputId": "e6057e3b-72c5-4bbb-f752-21f2e8c6e78d"
      },
      "outputs": [
        {
          "output_type": "execute_result",
          "data": {
            "text/plain": [
              "dict_keys(['name', 'age', 'job', 'city', 'email'])"
            ]
          },
          "metadata": {},
          "execution_count": 54
        }
      ],
      "source": [
        "dict1.keys()"
      ]
    },
    {
      "cell_type": "markdown",
      "id": "139d1aff",
      "metadata": {
        "id": "139d1aff"
      },
      "source": [
        "Exibir os valores de um dicionário:"
      ]
    },
    {
      "cell_type": "code",
      "execution_count": null,
      "id": "e5796fed",
      "metadata": {
        "id": "e5796fed",
        "colab": {
          "base_uri": "https://localhost:8080/"
        },
        "outputId": "8d8d9483-f9d1-4961-df88-b45a6a42e72d"
      },
      "outputs": [
        {
          "output_type": "execute_result",
          "data": {
            "text/plain": [
              "dict_values(['Bob', 25, 'Dev', 'New York', 'bob@web.com'])"
            ]
          },
          "metadata": {},
          "execution_count": 55
        }
      ],
      "source": [
        "dict1.values()"
      ]
    },
    {
      "cell_type": "markdown",
      "id": "f25337bd",
      "metadata": {
        "id": "f25337bd"
      },
      "source": [
        "Exibir os valores de um dicionário como pares (tuplas):"
      ]
    },
    {
      "cell_type": "code",
      "execution_count": null,
      "id": "6c51b641",
      "metadata": {
        "id": "6c51b641",
        "colab": {
          "base_uri": "https://localhost:8080/"
        },
        "outputId": "2599d3e8-e5f8-4850-e789-ef7307e5df66"
      },
      "outputs": [
        {
          "output_type": "execute_result",
          "data": {
            "text/plain": [
              "dict_items([('name', 'Bob'), ('age', 25), ('job', 'Dev'), ('city', 'New York'), ('email', 'bob@web.com')])"
            ]
          },
          "metadata": {},
          "execution_count": 56
        }
      ],
      "source": [
        "dict1.items()"
      ]
    },
    {
      "cell_type": "markdown",
      "id": "baa29abd",
      "metadata": {
        "id": "baa29abd"
      },
      "source": [
        "Alterar um valor do dicionário"
      ]
    },
    {
      "cell_type": "code",
      "execution_count": null,
      "id": "2407fb67",
      "metadata": {
        "id": "2407fb67"
      },
      "outputs": [],
      "source": [
        "dict1['age'] = 26"
      ]
    },
    {
      "cell_type": "code",
      "execution_count": null,
      "id": "3a1b902a",
      "metadata": {
        "id": "3a1b902a",
        "colab": {
          "base_uri": "https://localhost:8080/"
        },
        "outputId": "93b35c07-bd2f-4f96-ad30-a4133e9027fb"
      },
      "outputs": [
        {
          "output_type": "execute_result",
          "data": {
            "text/plain": [
              "{'name': 'Bob',\n",
              " 'age': 26,\n",
              " 'job': 'Dev',\n",
              " 'city': 'New York',\n",
              " 'email': 'bob@web.com'}"
            ]
          },
          "metadata": {},
          "execution_count": 58
        }
      ],
      "source": [
        "dict1"
      ]
    },
    {
      "cell_type": "markdown",
      "id": "97e09536",
      "metadata": {
        "id": "97e09536"
      },
      "source": [
        "Operação para remover (delete) uma chave e o seu valor associado:"
      ]
    },
    {
      "cell_type": "code",
      "execution_count": null,
      "id": "7d04c21c",
      "metadata": {
        "id": "7d04c21c"
      },
      "outputs": [],
      "source": [
        "del dict1['city']"
      ]
    },
    {
      "cell_type": "code",
      "execution_count": null,
      "id": "33443422",
      "metadata": {
        "id": "33443422",
        "colab": {
          "base_uri": "https://localhost:8080/"
        },
        "outputId": "c1f86700-81a9-4da9-f4b9-06a6abd8df26"
      },
      "outputs": [
        {
          "output_type": "execute_result",
          "data": {
            "text/plain": [
              "{'name': 'Bob', 'age': 26, 'job': 'Dev', 'email': 'bob@web.com'}"
            ]
          },
          "metadata": {},
          "execution_count": 60
        }
      ],
      "source": [
        "dict1"
      ]
    },
    {
      "cell_type": "markdown",
      "id": "ce5453db",
      "metadata": {
        "id": "ce5453db"
      },
      "source": [
        "#Comandos Condicionais"
      ]
    },
    {
      "cell_type": "markdown",
      "id": "5be103e0",
      "metadata": {
        "id": "5be103e0"
      },
      "source": [
        "O comando `if` é usado como comando condicional"
      ]
    },
    {
      "cell_type": "code",
      "execution_count": 1,
      "id": "50b6137e",
      "metadata": {
        "id": "50b6137e",
        "colab": {
          "base_uri": "https://localhost:8080/"
        },
        "outputId": "ac57ce04-f128-46f6-d37a-24a79ef56ee2"
      },
      "outputs": [
        {
          "output_type": "stream",
          "name": "stdout",
          "text": [
            "Par\n"
          ]
        }
      ],
      "source": [
        "#@title Default title text\n",
        "valor = 10 #@param {type:\"integer\"}\n",
        "\n",
        "if (valor%2==0):\n",
        "  print ('Par')"
      ]
    },
    {
      "cell_type": "markdown",
      "id": "be6ca04f",
      "metadata": {
        "id": "be6ca04f"
      },
      "source": [
        "Uso do comando `if-else`:"
      ]
    },
    {
      "cell_type": "code",
      "execution_count": 2,
      "id": "6505f55f",
      "metadata": {
        "id": "6505f55f",
        "colab": {
          "base_uri": "https://localhost:8080/"
        },
        "outputId": "3a3f1f67-d4eb-40fd-bd90-fee1fe43f34f"
      },
      "outputs": [
        {
          "output_type": "stream",
          "name": "stdout",
          "text": [
            "Impar\n"
          ]
        }
      ],
      "source": [
        "#@title Default title text\n",
        "valor = 17 #@param {type:\"integer\"}\n",
        "\n",
        "if (valor%2==0):\n",
        "  print ('Par')\n",
        "else:\n",
        "  print ('Impar')"
      ]
    },
    {
      "cell_type": "markdown",
      "id": "e24806ce",
      "metadata": {
        "id": "e24806ce"
      },
      "source": [
        "É possível ainda usar o comando `if` aninhado através do `elif`:\n"
      ]
    },
    {
      "cell_type": "code",
      "execution_count": 3,
      "id": "4a8f5f31",
      "metadata": {
        "id": "4a8f5f31",
        "colab": {
          "base_uri": "https://localhost:8080/"
        },
        "outputId": "a95b480b-ce38-49d9-caa7-b4aea9a63cf5"
      },
      "outputs": [
        {
          "output_type": "stream",
          "name": "stdout",
          "text": [
            "Zero\n"
          ]
        }
      ],
      "source": [
        "valor = 0 #@param {type:\"integer\"}\n",
        "\n",
        "if (valor>0):\n",
        "  print ('Positivo')\n",
        "elif (valor<0):\n",
        "  print ('Negativo')\n",
        "else:\n",
        "  print ('Zero')"
      ]
    },
    {
      "cell_type": "markdown",
      "id": "49c72943",
      "metadata": {
        "id": "49c72943"
      },
      "source": [
        "#Laço de Repetição"
      ]
    },
    {
      "cell_type": "markdown",
      "id": "cc3d5988",
      "metadata": {
        "id": "cc3d5988"
      },
      "source": [
        "Exemplo simples:"
      ]
    },
    {
      "cell_type": "code",
      "execution_count": 4,
      "id": "4bf8cafe",
      "metadata": {
        "id": "4bf8cafe",
        "colab": {
          "base_uri": "https://localhost:8080/"
        },
        "outputId": "74ec6cbe-37a4-46b7-fce6-b1e6cac7d373"
      },
      "outputs": [
        {
          "output_type": "stream",
          "name": "stdout",
          "text": [
            "10\n",
            "20\n",
            "30\n"
          ]
        }
      ],
      "source": [
        "for i in [10,20,30]:\n",
        "  print(i)"
      ]
    },
    {
      "cell_type": "markdown",
      "id": "1e151115",
      "metadata": {
        "id": "1e151115"
      },
      "source": [
        "Função `range( )`"
      ]
    },
    {
      "cell_type": "code",
      "execution_count": 5,
      "id": "bacc11c7",
      "metadata": {
        "id": "bacc11c7",
        "colab": {
          "base_uri": "https://localhost:8080/"
        },
        "outputId": "e62966c7-cfd4-462b-9822-2ccb072f8fd6"
      },
      "outputs": [
        {
          "output_type": "stream",
          "name": "stdout",
          "text": [
            "[0, 1, 2, 3, 4]\n"
          ]
        }
      ],
      "source": [
        "print (list(range(5)))"
      ]
    },
    {
      "cell_type": "code",
      "execution_count": 6,
      "id": "65511fff",
      "metadata": {
        "id": "65511fff",
        "colab": {
          "base_uri": "https://localhost:8080/"
        },
        "outputId": "2f53772b-dff7-435e-ab23-6319466a4635"
      },
      "outputs": [
        {
          "output_type": "stream",
          "name": "stdout",
          "text": [
            "[3, 4, 5, 6, 7]\n"
          ]
        }
      ],
      "source": [
        "print (list(range(3,8)))"
      ]
    },
    {
      "cell_type": "code",
      "execution_count": 7,
      "id": "ec154390",
      "metadata": {
        "id": "ec154390",
        "colab": {
          "base_uri": "https://localhost:8080/"
        },
        "outputId": "b9b06eaa-d5e6-4ee7-c296-9a43a07feeb3"
      },
      "outputs": [
        {
          "output_type": "stream",
          "name": "stdout",
          "text": [
            "[3, 5, 7, 9]\n"
          ]
        }
      ],
      "source": [
        "print (list(range(3,10,2)))"
      ]
    },
    {
      "cell_type": "markdown",
      "id": "b8fc8786",
      "metadata": {
        "id": "b8fc8786"
      },
      "source": [
        "A função `range( )` em um laços de repetição:"
      ]
    },
    {
      "cell_type": "code",
      "execution_count": 8,
      "id": "19a3e124",
      "metadata": {
        "id": "19a3e124",
        "colab": {
          "base_uri": "https://localhost:8080/"
        },
        "outputId": "077c5e9e-c057-4536-d73c-cc9eb1cf46dd"
      },
      "outputs": [
        {
          "output_type": "stream",
          "name": "stdout",
          "text": [
            "0\n",
            "1\n",
            "2\n",
            "3\n",
            "4\n"
          ]
        }
      ],
      "source": [
        "for i in range(5):\n",
        "  print (i)"
      ]
    },
    {
      "cell_type": "markdown",
      "id": "682d8c23",
      "metadata": {
        "id": "682d8c23"
      },
      "source": [
        "A função `enumerate( )` retorna o índice e o valor do elemento de uma lista."
      ]
    },
    {
      "cell_type": "code",
      "execution_count": 9,
      "id": "9d7bc691",
      "metadata": {
        "id": "9d7bc691"
      },
      "outputs": [],
      "source": [
        "cidades = ['Manaus', 'Itacoatiara', 'Parintins', 'Presidente Figueiredo']"
      ]
    },
    {
      "cell_type": "code",
      "execution_count": 10,
      "id": "eae540ad",
      "metadata": {
        "id": "eae540ad",
        "colab": {
          "base_uri": "https://localhost:8080/"
        },
        "outputId": "ee0dafdc-b1d4-4c86-9623-1b6546f041c0"
      },
      "outputs": [
        {
          "output_type": "stream",
          "name": "stdout",
          "text": [
            "Manaus\n",
            "Itacoatiara\n",
            "Parintins\n",
            "Presidente Figueiredo\n"
          ]
        }
      ],
      "source": [
        "for c in cidades:\n",
        "  print (c)"
      ]
    },
    {
      "cell_type": "code",
      "execution_count": 11,
      "id": "c3916caa",
      "metadata": {
        "id": "c3916caa",
        "colab": {
          "base_uri": "https://localhost:8080/"
        },
        "outputId": "d1423034-0cff-4fde-a9e4-85f67a986a2f"
      },
      "outputs": [
        {
          "output_type": "stream",
          "name": "stdout",
          "text": [
            "(0, 'Manaus')\n",
            "(1, 'Itacoatiara')\n",
            "(2, 'Parintins')\n",
            "(3, 'Presidente Figueiredo')\n"
          ]
        }
      ],
      "source": [
        "for c in enumerate(cidades):\n",
        "  print (c)"
      ]
    },
    {
      "cell_type": "markdown",
      "id": "2a957c76",
      "metadata": {
        "id": "2a957c76"
      },
      "source": [
        "A função `zip( )` permite associar muitas listas e, simultaneamente, iterar através dos elementos destas listas."
      ]
    },
    {
      "cell_type": "code",
      "execution_count": 12,
      "id": "5c98181f",
      "metadata": {
        "id": "5c98181f"
      },
      "outputs": [],
      "source": [
        "estados = ['Amazonas', 'Pará', 'Acre', 'Roraima']\n",
        "siglas = ['AM', 'PA', 'AC', 'RR']"
      ]
    },
    {
      "cell_type": "code",
      "execution_count": 13,
      "id": "0b6c70b3",
      "metadata": {
        "id": "0b6c70b3",
        "colab": {
          "base_uri": "https://localhost:8080/"
        },
        "outputId": "192a16b7-c515-440e-b5b4-881daa8ac54c"
      },
      "outputs": [
        {
          "output_type": "stream",
          "name": "stdout",
          "text": [
            "Amazonas AM\n",
            "Pará PA\n",
            "Acre AC\n",
            "Roraima RR\n"
          ]
        }
      ],
      "source": [
        "for e,s in zip(estados, siglas):\n",
        "  print (e,s)"
      ]
    },
    {
      "cell_type": "markdown",
      "id": "33f7ad7a",
      "metadata": {
        "id": "33f7ad7a"
      },
      "source": [
        "Python ainda possui o comando `while` como laço de repetição."
      ]
    },
    {
      "cell_type": "code",
      "execution_count": 14,
      "id": "836139e7",
      "metadata": {
        "id": "836139e7",
        "colab": {
          "base_uri": "https://localhost:8080/"
        },
        "outputId": "9df3db98-8836-4f21-e8bf-023eb4803cc7"
      },
      "outputs": [
        {
          "output_type": "stream",
          "name": "stdout",
          "text": [
            "0\n",
            "1\n",
            "2\n",
            "3\n",
            "4\n",
            "5\n",
            "6\n",
            "7\n",
            "8\n",
            "9\n"
          ]
        }
      ],
      "source": [
        "i = 0\n",
        "while (i<10):\n",
        "  print (i)\n",
        "  i+=1"
      ]
    },
    {
      "cell_type": "markdown",
      "id": "c28c9537",
      "metadata": {
        "id": "c28c9537"
      },
      "source": [
        "#Funções"
      ]
    },
    {
      "cell_type": "markdown",
      "id": "da0a4bcc",
      "metadata": {
        "id": "da0a4bcc"
      },
      "source": [
        "Exemplo simples:"
      ]
    },
    {
      "cell_type": "code",
      "execution_count": 15,
      "id": "f792becf",
      "metadata": {
        "id": "f792becf",
        "colab": {
          "base_uri": "https://localhost:8080/"
        },
        "outputId": "76d1828c-d35d-493f-8265-b2b8deb735fc"
      },
      "outputs": [
        {
          "output_type": "stream",
          "name": "stdout",
          "text": [
            "10\n"
          ]
        }
      ],
      "source": [
        "def soma(a,b):\n",
        "  print(a+b)\n",
        "\n",
        "valor1 = 3 #@param {type:\"integer\"}\n",
        "valor2 =  7#@param {type:\"integer\"}\n",
        "\n",
        "soma(valor1,valor2)"
      ]
    },
    {
      "cell_type": "markdown",
      "id": "98e0646d",
      "metadata": {
        "id": "98e0646d"
      },
      "source": [
        "Uma função pode retornar um valor através do operador `return`"
      ]
    },
    {
      "cell_type": "code",
      "execution_count": 16,
      "id": "7054796f",
      "metadata": {
        "id": "7054796f",
        "colab": {
          "base_uri": "https://localhost:8080/"
        },
        "outputId": "44bb8947-019b-4c05-802b-9cbc4c4379bb"
      },
      "outputs": [
        {
          "output_type": "stream",
          "name": "stdout",
          "text": [
            "10\n"
          ]
        }
      ],
      "source": [
        "def soma(a,b):\n",
        "  return(a+b)\n",
        "\n",
        "valor1 = 3 #@param {type:\"integer\"}\n",
        "valor2 =  7#@param {type:\"integer\"}\n",
        "\n",
        "print(soma(valor1,valor2))"
      ]
    },
    {
      "cell_type": "markdown",
      "id": "53785541",
      "metadata": {
        "id": "53785541"
      },
      "source": [
        "É possível ter argumentos opcionais nas funções em Python"
      ]
    },
    {
      "cell_type": "code",
      "execution_count": 17,
      "id": "fd4ba58a",
      "metadata": {
        "id": "fd4ba58a",
        "colab": {
          "base_uri": "https://localhost:8080/"
        },
        "outputId": "9c83bef4-135d-485d-c6c7-c656f2b675cc"
      },
      "outputs": [
        {
          "output_type": "stream",
          "name": "stdout",
          "text": [
            "50\n"
          ]
        }
      ],
      "source": [
        "def produto(a,b=10):\n",
        "  print (a*b)\n",
        "\n",
        "produto (5)"
      ]
    },
    {
      "cell_type": "code",
      "execution_count": 18,
      "id": "0213c4fc",
      "metadata": {
        "id": "0213c4fc",
        "colab": {
          "base_uri": "https://localhost:8080/"
        },
        "outputId": "fd5cb65c-9d37-48fa-eed7-4dc078f6ca78"
      },
      "outputs": [
        {
          "output_type": "stream",
          "name": "stdout",
          "text": [
            "40\n"
          ]
        }
      ],
      "source": [
        "produto (5,8)"
      ]
    },
    {
      "cell_type": "markdown",
      "id": "5ad854d6",
      "metadata": {
        "id": "5ad854d6"
      },
      "source": [
        "Passagem de listas como argumentos de funções"
      ]
    },
    {
      "cell_type": "code",
      "execution_count": 19,
      "id": "02067881",
      "metadata": {
        "id": "02067881"
      },
      "outputs": [],
      "source": [
        "def conta_pares(lista):\n",
        "  total=0\n",
        "  for i in lista:\n",
        "    if i%2==0:\n",
        "      total+=1\n",
        "  print (total)"
      ]
    },
    {
      "cell_type": "code",
      "execution_count": 21,
      "id": "cc9b36ed",
      "metadata": {
        "id": "cc9b36ed",
        "colab": {
          "base_uri": "https://localhost:8080/"
        },
        "outputId": "f2bf4ef6-3533-4e40-f480-c7f26f7f8a6b"
      },
      "outputs": [
        {
          "output_type": "stream",
          "name": "stdout",
          "text": [
            "3\n"
          ]
        }
      ],
      "source": [
        "lista = [1, 3, 4, 6, 10]\n",
        "\n",
        "conta_pares(lista)"
      ]
    },
    {
      "cell_type": "markdown",
      "id": "fad6a85f",
      "metadata": {
        "id": "fad6a85f"
      },
      "source": [
        "Passagem de dicionários como argumentos de funções"
      ]
    },
    {
      "cell_type": "code",
      "execution_count": 22,
      "id": "fecab060",
      "metadata": {
        "id": "fecab060"
      },
      "outputs": [],
      "source": [
        "def testa_maioridade(d):\n",
        "  if d['age'] >= 18:\n",
        "    print ('Maior de idade.')\n",
        "  else:\n",
        "    print ('Menor de idade.')"
      ]
    },
    {
      "cell_type": "code",
      "execution_count": 23,
      "id": "d7f06c5e",
      "metadata": {
        "id": "d7f06c5e"
      },
      "outputs": [],
      "source": [
        "dict1 = {'name': 'Bob', 'age': 25, 'job':'Dev', 'city':'New York', 'email':'bob@web.com'}"
      ]
    },
    {
      "cell_type": "code",
      "execution_count": 24,
      "id": "a1e0918d",
      "metadata": {
        "id": "a1e0918d",
        "colab": {
          "base_uri": "https://localhost:8080/"
        },
        "outputId": "9c7b52e2-f285-4e21-8037-70ddb300dcab"
      },
      "outputs": [
        {
          "output_type": "stream",
          "name": "stdout",
          "text": [
            "Maior de idade.\n"
          ]
        }
      ],
      "source": [
        "testa_maioridade(dict1)"
      ]
    },
    {
      "cell_type": "markdown",
      "id": "fff46cbf",
      "metadata": {
        "id": "fff46cbf"
      },
      "source": [
        "Múltiplos retornos"
      ]
    },
    {
      "cell_type": "code",
      "execution_count": 25,
      "id": "8c9538fb",
      "metadata": {
        "id": "8c9538fb"
      },
      "outputs": [],
      "source": [
        "def calculos (a,b):\n",
        "  return (a+b, a*b)"
      ]
    },
    {
      "cell_type": "code",
      "execution_count": 26,
      "id": "8e561854",
      "metadata": {
        "id": "8e561854",
        "colab": {
          "base_uri": "https://localhost:8080/"
        },
        "outputId": "1ce8cb9c-9e05-4b88-f47b-80e0a7389d34"
      },
      "outputs": [
        {
          "output_type": "execute_result",
          "data": {
            "text/plain": [
              "(30, 200)"
            ]
          },
          "metadata": {},
          "execution_count": 26
        }
      ],
      "source": [
        "calculos(10,20)"
      ]
    },
    {
      "cell_type": "markdown",
      "id": "286af6e6",
      "metadata": {
        "id": "286af6e6"
      },
      "source": [
        "Função `lambda`"
      ]
    },
    {
      "cell_type": "markdown",
      "id": "d9fc0e5f",
      "metadata": {
        "id": "d9fc0e5f"
      },
      "source": [
        "Exemplo de função `lambda` para colocar o texto em caixa alta e separar por palavras:"
      ]
    },
    {
      "cell_type": "code",
      "execution_count": 27,
      "id": "252d0420",
      "metadata": {
        "id": "252d0420"
      },
      "outputs": [],
      "source": [
        "texto = 'Ciencia de Dados'"
      ]
    },
    {
      "cell_type": "code",
      "execution_count": 28,
      "id": "c8653561",
      "metadata": {
        "id": "c8653561",
        "colab": {
          "base_uri": "https://localhost:8080/"
        },
        "outputId": "5c0618d5-0bb4-47d0-e6bf-07a52ecb2902"
      },
      "outputs": [
        {
          "output_type": "execute_result",
          "data": {
            "text/plain": [
              "['CIENCIA', 'DE', 'DADOS']"
            ]
          },
          "metadata": {},
          "execution_count": 28
        }
      ],
      "source": [
        "(lambda string: string.upper().split())(texto)"
      ]
    },
    {
      "cell_type": "markdown",
      "id": "7329bb73",
      "metadata": {
        "id": "7329bb73"
      },
      "source": [
        "Exemplo de função `lambda` para manipular lista."
      ]
    },
    {
      "cell_type": "code",
      "execution_count": 29,
      "id": "91011b67",
      "metadata": {
        "id": "91011b67"
      },
      "outputs": [],
      "source": [
        "lista = [10, 13, 19, 20, 50]"
      ]
    },
    {
      "cell_type": "code",
      "execution_count": 30,
      "id": "1ea9cc90",
      "metadata": {
        "id": "1ea9cc90"
      },
      "outputs": [],
      "source": [
        "nova_lista = list(filter(lambda x:(x%2==0), lista))"
      ]
    },
    {
      "cell_type": "code",
      "execution_count": 31,
      "id": "ea83c550",
      "metadata": {
        "id": "ea83c550",
        "colab": {
          "base_uri": "https://localhost:8080/"
        },
        "outputId": "fbaa96ab-306a-480c-a014-3adb7f4a1a62"
      },
      "outputs": [
        {
          "output_type": "stream",
          "name": "stdout",
          "text": [
            "[10, 20, 50]\n"
          ]
        }
      ],
      "source": [
        "print (nova_lista)"
      ]
    },
    {
      "cell_type": "markdown",
      "id": "6706d2af",
      "metadata": {
        "id": "6706d2af"
      },
      "source": [
        "#Orientação a objetos"
      ]
    },
    {
      "cell_type": "markdown",
      "id": "212f188c",
      "metadata": {
        "id": "212f188c"
      },
      "source": [
        "Exemplo1:"
      ]
    },
    {
      "cell_type": "code",
      "execution_count": 32,
      "id": "5df77d47",
      "metadata": {
        "id": "5df77d47"
      },
      "outputs": [],
      "source": [
        "from sklearn.linear_model import LinearRegression\n",
        "\n",
        "objeto = LinearRegression()"
      ]
    },
    {
      "cell_type": "markdown",
      "id": "32917d62",
      "metadata": {
        "id": "32917d62"
      },
      "source": [
        "A declaração abaixo criou uma variável ou um objeto?"
      ]
    },
    {
      "cell_type": "code",
      "execution_count": 33,
      "id": "1e369eea",
      "metadata": {
        "id": "1e369eea"
      },
      "outputs": [],
      "source": [
        "valor = True"
      ]
    },
    {
      "cell_type": "code",
      "execution_count": 34,
      "id": "6b4613eb",
      "metadata": {
        "id": "6b4613eb",
        "colab": {
          "base_uri": "https://localhost:8080/"
        },
        "outputId": "1fe58e8b-328a-44b0-85e5-7a5d170ce1f2"
      },
      "outputs": [
        {
          "output_type": "execute_result",
          "data": {
            "text/plain": [
              "1"
            ]
          },
          "metadata": {},
          "execution_count": 34
        }
      ],
      "source": [
        "valor.denominator"
      ]
    },
    {
      "cell_type": "code",
      "execution_count": 35,
      "id": "28da8468",
      "metadata": {
        "id": "28da8468",
        "colab": {
          "base_uri": "https://localhost:8080/"
        },
        "outputId": "22e572bb-4410-41c3-c9d4-4e2e94d2db08"
      },
      "outputs": [
        {
          "output_type": "execute_result",
          "data": {
            "text/plain": [
              "1"
            ]
          },
          "metadata": {},
          "execution_count": 35
        }
      ],
      "source": [
        "valor.conjugate()"
      ]
    },
    {
      "cell_type": "markdown",
      "id": "d315be77",
      "metadata": {
        "id": "d315be77"
      },
      "source": [
        "Exemplo 2:"
      ]
    },
    {
      "cell_type": "code",
      "execution_count": 36,
      "id": "66894ae0",
      "metadata": {
        "id": "66894ae0"
      },
      "outputs": [],
      "source": [
        "class minhaClasse:\n",
        "  def __init__ (self, resolution = 300, source = \"./\", size = 500):\n",
        "    self.resolution = resolution\n",
        "    self.source = source\n",
        "    self.size = size"
      ]
    },
    {
      "cell_type": "code",
      "execution_count": 37,
      "id": "6b902e8d",
      "metadata": {
        "id": "6b902e8d"
      },
      "outputs": [],
      "source": [
        "imagem1 = minhaClasse(source=\"dog.png\")"
      ]
    },
    {
      "cell_type": "code",
      "execution_count": 38,
      "id": "f7de682a",
      "metadata": {
        "id": "f7de682a",
        "colab": {
          "base_uri": "https://localhost:8080/"
        },
        "outputId": "76c17d00-dfd3-43d1-c6a1-d30333293d21"
      },
      "outputs": [
        {
          "output_type": "execute_result",
          "data": {
            "text/plain": [
              "500"
            ]
          },
          "metadata": {},
          "execution_count": 38
        }
      ],
      "source": [
        "imagem1.size"
      ]
    },
    {
      "cell_type": "code",
      "execution_count": 39,
      "id": "0dd14d0b",
      "metadata": {
        "id": "0dd14d0b",
        "colab": {
          "base_uri": "https://localhost:8080/",
          "height": 35
        },
        "outputId": "fbbb3a44-5863-4b9e-ee4c-241809536b8f"
      },
      "outputs": [
        {
          "output_type": "execute_result",
          "data": {
            "text/plain": [
              "'dog.png'"
            ],
            "application/vnd.google.colaboratory.intrinsic+json": {
              "type": "string"
            }
          },
          "metadata": {},
          "execution_count": 39
        }
      ],
      "source": [
        "imagem1.source"
      ]
    },
    {
      "cell_type": "markdown",
      "id": "5920aae6",
      "metadata": {
        "id": "5920aae6"
      },
      "source": [
        "#Módulos e Pacotes"
      ]
    },
    {
      "cell_type": "markdown",
      "id": "f6a3c977",
      "metadata": {
        "id": "f6a3c977"
      },
      "source": [
        "Exemplo 1"
      ]
    },
    {
      "cell_type": "code",
      "execution_count": 40,
      "id": "2d568805",
      "metadata": {
        "id": "2d568805",
        "colab": {
          "base_uri": "https://localhost:8080/"
        },
        "outputId": "370fbcfa-487a-47f5-9f3b-31f5e2249a67"
      },
      "outputs": [
        {
          "output_type": "stream",
          "name": "stdout",
          "text": [
            "Collecting datetime\n",
            "  Downloading DateTime-5.5-py3-none-any.whl.metadata (33 kB)\n",
            "Collecting zope.interface (from datetime)\n",
            "  Downloading zope.interface-7.2-cp311-cp311-manylinux_2_5_x86_64.manylinux1_x86_64.manylinux_2_17_x86_64.manylinux2014_x86_64.whl.metadata (44 kB)\n",
            "\u001b[2K     \u001b[90m━━━━━━━━━━━━━━━━━━━━━━━━━━━━━━━━━━━━━━━━\u001b[0m \u001b[32m44.4/44.4 kB\u001b[0m \u001b[31m1.9 MB/s\u001b[0m eta \u001b[36m0:00:00\u001b[0m\n",
            "\u001b[?25hRequirement already satisfied: pytz in /usr/local/lib/python3.11/dist-packages (from datetime) (2025.2)\n",
            "Requirement already satisfied: setuptools in /usr/local/lib/python3.11/dist-packages (from zope.interface->datetime) (75.2.0)\n",
            "Downloading DateTime-5.5-py3-none-any.whl (52 kB)\n",
            "\u001b[2K   \u001b[90m━━━━━━━━━━━━━━━━━━━━━━━━━━━━━━━━━━━━━━━━\u001b[0m \u001b[32m52.6/52.6 kB\u001b[0m \u001b[31m3.9 MB/s\u001b[0m eta \u001b[36m0:00:00\u001b[0m\n",
            "\u001b[?25hDownloading zope.interface-7.2-cp311-cp311-manylinux_2_5_x86_64.manylinux1_x86_64.manylinux_2_17_x86_64.manylinux2014_x86_64.whl (259 kB)\n",
            "\u001b[2K   \u001b[90m━━━━━━━━━━━━━━━━━━━━━━━━━━━━━━━━━━━━━━━━\u001b[0m \u001b[32m259.8/259.8 kB\u001b[0m \u001b[31m9.3 MB/s\u001b[0m eta \u001b[36m0:00:00\u001b[0m\n",
            "\u001b[?25hInstalling collected packages: zope.interface, datetime\n",
            "Successfully installed datetime-5.5 zope.interface-7.2\n"
          ]
        }
      ],
      "source": [
        "!pip install datetime"
      ]
    },
    {
      "cell_type": "code",
      "execution_count": 41,
      "id": "10c73ef6",
      "metadata": {
        "id": "10c73ef6"
      },
      "outputs": [],
      "source": [
        "import datetime"
      ]
    },
    {
      "cell_type": "code",
      "execution_count": 42,
      "id": "8b950e2e",
      "metadata": {
        "id": "8b950e2e",
        "colab": {
          "base_uri": "https://localhost:8080/"
        },
        "outputId": "d6579f57-ee09-47f7-e69d-8ce6f2e6e216"
      },
      "outputs": [
        {
          "output_type": "stream",
          "name": "stdout",
          "text": [
            "2025-05-10\n"
          ]
        }
      ],
      "source": [
        "print (datetime.date.today())"
      ]
    },
    {
      "cell_type": "markdown",
      "id": "d7ad2177",
      "metadata": {
        "id": "d7ad2177"
      },
      "source": [
        "Exemplo 2"
      ]
    },
    {
      "cell_type": "code",
      "execution_count": 43,
      "id": "513abeb3",
      "metadata": {
        "id": "513abeb3"
      },
      "outputs": [],
      "source": [
        "import numpy as np"
      ]
    },
    {
      "cell_type": "code",
      "execution_count": 47,
      "id": "54a526b9",
      "metadata": {
        "id": "54a526b9",
        "colab": {
          "base_uri": "https://localhost:8080/"
        },
        "outputId": "0f311fc0-7078-4304-be2a-8430fc1256b3"
      },
      "outputs": [
        {
          "output_type": "stream",
          "name": "stdout",
          "text": [
            "[8.08625104e-01 2.39103411e-01 1.27901686e-02 1.15793782e-01\n",
            " 9.13533844e-01 9.53484608e-01 4.37628478e-01 4.87039411e-01\n",
            " 7.11915342e-01 7.36773675e-01 6.69304971e-01 3.47604044e-01\n",
            " 3.36561939e-01 1.07192264e-01 7.86185973e-01 4.78418130e-01\n",
            " 8.96419813e-01 6.01338754e-01 1.51405440e-02 8.68085515e-01\n",
            " 7.09903370e-01 5.13712605e-01 3.04542594e-01 5.69732697e-01\n",
            " 1.20430431e-01 4.98404617e-01 3.20153057e-01 4.82881603e-01\n",
            " 1.68836698e-01 4.53060440e-02 9.55629409e-01 1.61058135e-02\n",
            " 5.98753584e-01 5.01280919e-01 8.38711391e-01 1.04265505e-01\n",
            " 4.02522271e-02 6.01836853e-01 1.84944486e-02 5.69088791e-01\n",
            " 9.91745522e-01 6.47984897e-01 4.31486177e-01 5.49546492e-01\n",
            " 9.56365133e-01 3.86782561e-01 6.86846699e-01 9.37172029e-01\n",
            " 5.99784865e-01 4.35168571e-01 7.21054065e-01 2.36964379e-01\n",
            " 2.83353717e-01 4.70003310e-01 8.77582920e-01 9.59469198e-01\n",
            " 8.63381200e-01 5.04129167e-01 2.21916004e-01 7.53674222e-01\n",
            " 4.21587111e-01 5.29995061e-01 8.94498272e-01 3.65637235e-01\n",
            " 8.09030861e-01 2.61400318e-01 2.12117029e-01 2.54883457e-01\n",
            " 4.58741471e-01 8.69421429e-01 1.54323192e-01 4.78916838e-01\n",
            " 5.79791811e-01 5.76600206e-01 7.48226657e-01 4.84423483e-01\n",
            " 2.06762685e-01 9.34899078e-02 3.69713573e-01 6.54244544e-01\n",
            " 3.89792440e-03 5.34036835e-01 4.51608817e-01 9.99714341e-01\n",
            " 2.10422049e-01 3.53100213e-01 8.04312666e-01 8.93662242e-01\n",
            " 1.36434111e-01 2.40290598e-01 5.67917373e-01 8.78061262e-04\n",
            " 9.26300177e-01 6.12839458e-02 4.47233347e-01 7.02342600e-01\n",
            " 2.43158429e-01 5.97877529e-03 7.37251782e-01 6.79902358e-01]\n"
          ]
        }
      ],
      "source": [
        "print (np.random.random(100))"
      ]
    },
    {
      "cell_type": "markdown",
      "id": "773a65fb",
      "metadata": {
        "id": "773a65fb"
      },
      "source": [
        "# Tratamento de Erros e Exceções"
      ]
    },
    {
      "cell_type": "markdown",
      "id": "277473ce",
      "metadata": {
        "id": "277473ce"
      },
      "source": [
        "Exemplo 1:"
      ]
    },
    {
      "cell_type": "code",
      "execution_count": 48,
      "id": "2777cc64",
      "metadata": {
        "id": "2777cc64"
      },
      "outputs": [],
      "source": [
        "def divisao (a,b):\n",
        "  return (a/b)"
      ]
    },
    {
      "cell_type": "code",
      "execution_count": 49,
      "id": "07fbdba7",
      "metadata": {
        "id": "07fbdba7",
        "colab": {
          "base_uri": "https://localhost:8080/"
        },
        "outputId": "288688ed-a8e8-4cf7-aaa1-2658f4baa916"
      },
      "outputs": [
        {
          "output_type": "execute_result",
          "data": {
            "text/plain": [
              "2.0"
            ]
          },
          "metadata": {},
          "execution_count": 49
        }
      ],
      "source": [
        "divisao (10,5)"
      ]
    },
    {
      "cell_type": "code",
      "execution_count": 50,
      "id": "77406abe",
      "metadata": {
        "id": "77406abe",
        "colab": {
          "base_uri": "https://localhost:8080/",
          "height": 211
        },
        "outputId": "38dd85a8-85d5-4647-842f-12eb2c4a4149"
      },
      "outputs": [
        {
          "output_type": "error",
          "ename": "ZeroDivisionError",
          "evalue": "division by zero",
          "traceback": [
            "\u001b[0;31m---------------------------------------------------------------------------\u001b[0m",
            "\u001b[0;31mZeroDivisionError\u001b[0m                         Traceback (most recent call last)",
            "\u001b[0;32m<ipython-input-50-e6d0b4df3020>\u001b[0m in \u001b[0;36m<cell line: 0>\u001b[0;34m()\u001b[0m\n\u001b[0;32m----> 1\u001b[0;31m \u001b[0mdivisao\u001b[0m\u001b[0;34m(\u001b[0m\u001b[0;36m10\u001b[0m\u001b[0;34m,\u001b[0m\u001b[0;36m0\u001b[0m\u001b[0;34m)\u001b[0m\u001b[0;34m\u001b[0m\u001b[0;34m\u001b[0m\u001b[0m\n\u001b[0m",
            "\u001b[0;32m<ipython-input-48-527dc02da25d>\u001b[0m in \u001b[0;36mdivisao\u001b[0;34m(a, b)\u001b[0m\n\u001b[1;32m      1\u001b[0m \u001b[0;32mdef\u001b[0m \u001b[0mdivisao\u001b[0m \u001b[0;34m(\u001b[0m\u001b[0ma\u001b[0m\u001b[0;34m,\u001b[0m\u001b[0mb\u001b[0m\u001b[0;34m)\u001b[0m\u001b[0;34m:\u001b[0m\u001b[0;34m\u001b[0m\u001b[0;34m\u001b[0m\u001b[0m\n\u001b[0;32m----> 2\u001b[0;31m   \u001b[0;32mreturn\u001b[0m \u001b[0;34m(\u001b[0m\u001b[0ma\u001b[0m\u001b[0;34m/\u001b[0m\u001b[0mb\u001b[0m\u001b[0;34m)\u001b[0m\u001b[0;34m\u001b[0m\u001b[0;34m\u001b[0m\u001b[0m\n\u001b[0m",
            "\u001b[0;31mZeroDivisionError\u001b[0m: division by zero"
          ]
        }
      ],
      "source": [
        "divisao(10,0)"
      ]
    },
    {
      "cell_type": "code",
      "execution_count": 51,
      "id": "4eacee91",
      "metadata": {
        "id": "4eacee91",
        "colab": {
          "base_uri": "https://localhost:8080/",
          "height": 211
        },
        "outputId": "b1687155-9c65-4f4f-b47e-83ceb451f538"
      },
      "outputs": [
        {
          "output_type": "error",
          "ename": "TypeError",
          "evalue": "unsupported operand type(s) for /: 'int' and 'str'",
          "traceback": [
            "\u001b[0;31m---------------------------------------------------------------------------\u001b[0m",
            "\u001b[0;31mTypeError\u001b[0m                                 Traceback (most recent call last)",
            "\u001b[0;32m<ipython-input-51-cd5d68918c3e>\u001b[0m in \u001b[0;36m<cell line: 0>\u001b[0;34m()\u001b[0m\n\u001b[0;32m----> 1\u001b[0;31m \u001b[0mdivisao\u001b[0m \u001b[0;34m(\u001b[0m\u001b[0;36m10\u001b[0m\u001b[0;34m,\u001b[0m \u001b[0;34m'casa'\u001b[0m\u001b[0;34m)\u001b[0m\u001b[0;34m\u001b[0m\u001b[0;34m\u001b[0m\u001b[0m\n\u001b[0m",
            "\u001b[0;32m<ipython-input-48-527dc02da25d>\u001b[0m in \u001b[0;36mdivisao\u001b[0;34m(a, b)\u001b[0m\n\u001b[1;32m      1\u001b[0m \u001b[0;32mdef\u001b[0m \u001b[0mdivisao\u001b[0m \u001b[0;34m(\u001b[0m\u001b[0ma\u001b[0m\u001b[0;34m,\u001b[0m\u001b[0mb\u001b[0m\u001b[0;34m)\u001b[0m\u001b[0;34m:\u001b[0m\u001b[0;34m\u001b[0m\u001b[0;34m\u001b[0m\u001b[0m\n\u001b[0;32m----> 2\u001b[0;31m   \u001b[0;32mreturn\u001b[0m \u001b[0;34m(\u001b[0m\u001b[0ma\u001b[0m\u001b[0;34m/\u001b[0m\u001b[0mb\u001b[0m\u001b[0;34m)\u001b[0m\u001b[0;34m\u001b[0m\u001b[0;34m\u001b[0m\u001b[0m\n\u001b[0m",
            "\u001b[0;31mTypeError\u001b[0m: unsupported operand type(s) for /: 'int' and 'str'"
          ]
        }
      ],
      "source": [
        "divisao (10, 'casa')"
      ]
    },
    {
      "cell_type": "code",
      "execution_count": 52,
      "id": "8b835b48",
      "metadata": {
        "id": "8b835b48"
      },
      "outputs": [],
      "source": [
        "def divisao (a,b):\n",
        "  try:\n",
        "    return (a/b)\n",
        "  except ZeroDivisionError:\n",
        "    print ('Divisao por zero.')\n",
        "  except TypeError:\n",
        "    print ('Tipo incorreto para a operação.')\n",
        "    None"
      ]
    },
    {
      "cell_type": "code",
      "execution_count": 53,
      "id": "35310c12",
      "metadata": {
        "id": "35310c12",
        "colab": {
          "base_uri": "https://localhost:8080/"
        },
        "outputId": "5e7f8ffd-668d-422f-aedb-8237094aaec1"
      },
      "outputs": [
        {
          "output_type": "stream",
          "name": "stdout",
          "text": [
            "Divisao por zero.\n"
          ]
        }
      ],
      "source": [
        "divisao (10,0)"
      ]
    },
    {
      "cell_type": "code",
      "execution_count": 54,
      "id": "78a61493",
      "metadata": {
        "id": "78a61493",
        "colab": {
          "base_uri": "https://localhost:8080/"
        },
        "outputId": "798ef6ae-5a3c-48be-c5ba-1234d72aa9e5"
      },
      "outputs": [
        {
          "output_type": "stream",
          "name": "stdout",
          "text": [
            "Tipo incorreto para a operação.\n"
          ]
        }
      ],
      "source": [
        "divisao (10,'casa')"
      ]
    },
    {
      "cell_type": "markdown",
      "id": "3d9db537",
      "metadata": {
        "id": "3d9db537"
      },
      "source": [
        "Exemplo 2:"
      ]
    },
    {
      "cell_type": "code",
      "execution_count": 55,
      "id": "22dba071",
      "metadata": {
        "id": "22dba071"
      },
      "outputs": [],
      "source": [
        "def divisao (a, b):\n",
        "  try:\n",
        "    resultado = a/b\n",
        "  except ZeroDivisionError:\n",
        "    print ('Divisao por zero não é permitida.')\n",
        "  else:\n",
        "    print ('O resultado é:', resultado)\n",
        "  finally:\n",
        "    print ('Término da execução.')"
      ]
    },
    {
      "cell_type": "code",
      "execution_count": 56,
      "id": "995d989d",
      "metadata": {
        "id": "995d989d",
        "colab": {
          "base_uri": "https://localhost:8080/"
        },
        "outputId": "ff5c35e7-de28-4042-cde7-56af0885fc20"
      },
      "outputs": [
        {
          "output_type": "stream",
          "name": "stdout",
          "text": [
            "O resultado é: 3.3333333333333335\n",
            "Término da execução.\n"
          ]
        }
      ],
      "source": [
        "divisao (10,3)"
      ]
    },
    {
      "cell_type": "code",
      "execution_count": 57,
      "id": "3aee2dd3",
      "metadata": {
        "id": "3aee2dd3",
        "colab": {
          "base_uri": "https://localhost:8080/"
        },
        "outputId": "0df73e56-87c8-49c5-b46d-7a6111d201f0"
      },
      "outputs": [
        {
          "output_type": "stream",
          "name": "stdout",
          "text": [
            "Divisao por zero não é permitida.\n",
            "Término da execução.\n"
          ]
        }
      ],
      "source": [
        "divisao (10, 0)"
      ]
    },
    {
      "cell_type": "markdown",
      "id": "b8943bce",
      "metadata": {
        "id": "b8943bce"
      },
      "source": [
        "#Expressões Regulares"
      ]
    },
    {
      "cell_type": "markdown",
      "id": "40edcd8f",
      "metadata": {
        "id": "40edcd8f"
      },
      "source": [
        "Exemplo 1:"
      ]
    },
    {
      "cell_type": "code",
      "execution_count": 58,
      "id": "b8c0a59c",
      "metadata": {
        "id": "b8c0a59c"
      },
      "outputs": [],
      "source": [
        "import re"
      ]
    },
    {
      "cell_type": "code",
      "execution_count": 59,
      "id": "d49ed784",
      "metadata": {
        "id": "d49ed784",
        "colab": {
          "base_uri": "https://localhost:8080/"
        },
        "outputId": "a9a44c71-62de-48a1-cb6f-ee35e3e9df78"
      },
      "outputs": [
        {
          "output_type": "stream",
          "name": "stdout",
          "text": [
            "True\n"
          ]
        }
      ],
      "source": [
        "texto = \"tmelo@uea.edu.br\"\n",
        "\n",
        "regexp = \"(^[a-z0-9 ._-] + @[a-z0-9._-] + \\.[(com|br)]+)\"\n",
        "\n",
        "if re.match (regexp, texto) is None:\n",
        "  print (True)\n",
        "else:\n",
        "  print (\"False\")"
      ]
    },
    {
      "cell_type": "markdown",
      "id": "1ba3601b",
      "metadata": {
        "id": "1ba3601b"
      },
      "source": [
        "#Decorators"
      ]
    },
    {
      "cell_type": "markdown",
      "source": [
        "Em Python, decorators (ou decoradores) são funções que recebem outra função como argumento, adicionam algum tipo de funcionalidade a ela, e retornam uma nova função com esse comportamento estendido — sem modificar diretamente o código da função original.\n",
        "\n",
        "Adicionar ou modificar funcionalidades de uma função ou método de forma **reutilizável** e **elegante**.\n",
        "\n",
        "Usos comuns:\n",
        "\n",
        "*   Log de execução\n",
        "\n",
        "*   Controle de acesso/autenticação\n",
        "\n",
        "*   Medir tempo de execução\n",
        "\n",
        "*   Memoização (cache de resultados)"
      ],
      "metadata": {
        "id": "EKlQQUWPvWlD"
      },
      "id": "EKlQQUWPvWlD"
    },
    {
      "cell_type": "markdown",
      "id": "88fa73a6",
      "metadata": {
        "id": "88fa73a6"
      },
      "source": [
        "Exemplo 1:"
      ]
    },
    {
      "cell_type": "code",
      "execution_count": 60,
      "id": "ea0e9c62",
      "metadata": {
        "id": "ea0e9c62"
      },
      "outputs": [],
      "source": [
        "def primeiro(msg):\n",
        "    print(msg)"
      ]
    },
    {
      "cell_type": "code",
      "execution_count": 61,
      "id": "6e2ee485",
      "metadata": {
        "id": "6e2ee485",
        "colab": {
          "base_uri": "https://localhost:8080/"
        },
        "outputId": "f9d3d683-707a-4f95-873f-bb4a303f702e"
      },
      "outputs": [
        {
          "output_type": "stream",
          "name": "stdout",
          "text": [
            "Curso de Programação\n"
          ]
        }
      ],
      "source": [
        "primeiro(\"Curso de Programação\")"
      ]
    },
    {
      "cell_type": "code",
      "execution_count": 62,
      "id": "fc2abe43",
      "metadata": {
        "id": "fc2abe43",
        "colab": {
          "base_uri": "https://localhost:8080/"
        },
        "outputId": "e29c72f2-ec17-4281-8dfe-909119cd091c"
      },
      "outputs": [
        {
          "output_type": "stream",
          "name": "stdout",
          "text": [
            "Curso\n"
          ]
        }
      ],
      "source": [
        "segundo = primeiro\n",
        "segundo(\"Curso\")"
      ]
    },
    {
      "cell_type": "markdown",
      "id": "3f276d68",
      "metadata": {
        "id": "3f276d68"
      },
      "source": [
        "Exemplo 2:"
      ]
    },
    {
      "cell_type": "code",
      "execution_count": 63,
      "id": "91de2764",
      "metadata": {
        "id": "91de2764"
      },
      "outputs": [],
      "source": [
        "def inc(x):\n",
        "    return x + 1\n",
        "\n",
        "def dec(x):\n",
        "    return x - 1\n",
        "\n",
        "def operate(func, x):\n",
        "    resultado = func(x)\n",
        "    return resultado"
      ]
    },
    {
      "cell_type": "code",
      "execution_count": 64,
      "id": "1f67816c",
      "metadata": {
        "id": "1f67816c",
        "colab": {
          "base_uri": "https://localhost:8080/"
        },
        "outputId": "30d080e3-1287-4b49-af05-8db5a3084233"
      },
      "outputs": [
        {
          "output_type": "execute_result",
          "data": {
            "text/plain": [
              "4"
            ]
          },
          "metadata": {},
          "execution_count": 64
        }
      ],
      "source": [
        "operate(inc,3)"
      ]
    },
    {
      "cell_type": "code",
      "execution_count": 65,
      "id": "e6e94e68",
      "metadata": {
        "id": "e6e94e68",
        "colab": {
          "base_uri": "https://localhost:8080/"
        },
        "outputId": "35505bf2-6c91-4d4c-d92e-f8fe704c5bda"
      },
      "outputs": [
        {
          "output_type": "execute_result",
          "data": {
            "text/plain": [
              "2"
            ]
          },
          "metadata": {},
          "execution_count": 65
        }
      ],
      "source": [
        "operate(dec,3)"
      ]
    },
    {
      "cell_type": "markdown",
      "id": "d078a89d",
      "metadata": {
        "id": "d078a89d"
      },
      "source": [
        "Exemplo 2:"
      ]
    },
    {
      "cell_type": "code",
      "execution_count": 66,
      "id": "519eddf9",
      "metadata": {
        "id": "519eddf9"
      },
      "outputs": [],
      "source": [
        "def principal():\n",
        "    def secundaria():\n",
        "        print(\"Curso de Python\")\n",
        "    return secundaria"
      ]
    },
    {
      "cell_type": "code",
      "execution_count": 67,
      "id": "135c5fb4",
      "metadata": {
        "id": "135c5fb4"
      },
      "outputs": [],
      "source": [
        "f = principal()"
      ]
    },
    {
      "cell_type": "code",
      "execution_count": 68,
      "id": "d33c0dfa",
      "metadata": {
        "id": "d33c0dfa",
        "colab": {
          "base_uri": "https://localhost:8080/"
        },
        "outputId": "701486b0-f276-4625-c3eb-f6b5a269ed9a"
      },
      "outputs": [
        {
          "output_type": "stream",
          "name": "stdout",
          "text": [
            "Curso de Python\n"
          ]
        }
      ],
      "source": [
        "f()"
      ]
    },
    {
      "cell_type": "markdown",
      "id": "02844b8b",
      "metadata": {
        "id": "02844b8b"
      },
      "source": [
        "Exemplo 3:"
      ]
    },
    {
      "cell_type": "code",
      "execution_count": 69,
      "id": "caad1892",
      "metadata": {
        "id": "caad1892"
      },
      "outputs": [],
      "source": [
        "def avancada(func):\n",
        "    def inner():\n",
        "        print(\"Função avançada - decorator\")\n",
        "        func()\n",
        "    return inner\n",
        "\n",
        "\n",
        "def basica():\n",
        "    print(\"Função básica\")"
      ]
    },
    {
      "cell_type": "code",
      "execution_count": 70,
      "id": "b8c58567",
      "metadata": {
        "id": "b8c58567",
        "colab": {
          "base_uri": "https://localhost:8080/"
        },
        "outputId": "a5563d2a-5755-4e31-a1d2-6eb0e8d867cb"
      },
      "outputs": [
        {
          "output_type": "stream",
          "name": "stdout",
          "text": [
            "Função básica\n"
          ]
        }
      ],
      "source": [
        "basica()"
      ]
    },
    {
      "cell_type": "code",
      "execution_count": 71,
      "id": "cd717e23",
      "metadata": {
        "id": "cd717e23"
      },
      "outputs": [],
      "source": [
        "b = avancada(basica)"
      ]
    },
    {
      "cell_type": "code",
      "execution_count": 72,
      "id": "c651356a",
      "metadata": {
        "id": "c651356a",
        "colab": {
          "base_uri": "https://localhost:8080/"
        },
        "outputId": "807a7801-451b-4b1a-d672-a980eb5d31bc"
      },
      "outputs": [
        {
          "output_type": "stream",
          "name": "stdout",
          "text": [
            "Função avançada - decorator\n",
            "Função básica\n"
          ]
        }
      ],
      "source": [
        "b()"
      ]
    },
    {
      "cell_type": "markdown",
      "id": "d0f5302c",
      "metadata": {
        "id": "d0f5302c"
      },
      "source": [
        "# 🆕 Novidades do Python 3.8+\n",
        "\n",
        "Nesta seção, vamos conhecer alguns recursos modernos e úteis que foram adicionados nas versões recentes do Python. Esses recursos ajudam a escrever códigos mais legíveis, eficientes e modernos.\n"
      ]
    },
    {
      "cell_type": "code",
      "execution_count": 73,
      "id": "11d38b93",
      "metadata": {
        "id": "11d38b93",
        "colab": {
          "base_uri": "https://localhost:8080/"
        },
        "outputId": "f052eef3-951d-4157-c465-a2dc20db5378"
      },
      "outputs": [
        {
          "name": "stdout",
          "output_type": "stream",
          "text": [
            "Digite algo (vazio para sair): 100\n",
            "Você digitou: 100\n",
            "Digite algo (vazio para sair): vazio\n",
            "Você digitou: vazio\n",
            "Digite algo (vazio para sair): \n"
          ]
        }
      ],
      "source": [
        "# := Walrus operator - atribuição dentro de uma expressão\n",
        "# Útil em loops e condicionais\n",
        "\n",
        "while (linha := input(\"Digite algo (vazio para sair): \")) != \"\":\n",
        "    print(\"Você digitou:\", linha)"
      ]
    },
    {
      "cell_type": "code",
      "execution_count": 74,
      "id": "49b87551",
      "metadata": {
        "id": "49b87551",
        "colab": {
          "base_uri": "https://localhost:8080/"
        },
        "outputId": "c24a7372-dac1-40e7-fa44-2a2a49ecaca6"
      },
      "outputs": [
        {
          "output_type": "stream",
          "name": "stdout",
          "text": [
            "x=42, y='Python'\n"
          ]
        }
      ],
      "source": [
        "# f-strings com \"=\" para debug\n",
        "\n",
        "x = 42\n",
        "y = \"Python\"\n",
        "print(f\"{x=}, {y=}\")"
      ]
    },
    {
      "cell_type": "code",
      "execution_count": 75,
      "id": "32f55b20",
      "metadata": {
        "id": "32f55b20",
        "colab": {
          "base_uri": "https://localhost:8080/"
        },
        "outputId": "b311607f-dbdf-43f7-859c-11360f125b2e"
      },
      "outputs": [
        {
          "output_type": "stream",
          "name": "stdout",
          "text": [
            "Iniciando...\n"
          ]
        }
      ],
      "source": [
        "# Pattern Matching (match-case) - a partir do Python 3.10\n",
        "\n",
        "comando = \"start\"\n",
        "\n",
        "match comando:\n",
        "    case \"start\":\n",
        "        print(\"Iniciando...\")\n",
        "    case \"stop\":\n",
        "        print(\"Parando...\")\n",
        "    case _:\n",
        "        print(\"Comando não reconhecido.\")"
      ]
    },
    {
      "cell_type": "code",
      "execution_count": 76,
      "id": "d6186f92",
      "metadata": {
        "id": "d6186f92",
        "colab": {
          "base_uri": "https://localhost:8080/"
        },
        "outputId": "16f00470-b651-4dbd-fb8e-e02b6c1ee204"
      },
      "outputs": [
        {
          "output_type": "stream",
          "name": "stdout",
          "text": [
            "Olá, Tiago\n",
            "Olá, visitante\n"
          ]
        }
      ],
      "source": [
        "# Tipagem com \"|\" (Union types) - Python 3.10+\n",
        "\n",
        "def saudacao(nome: str | None) -> str:\n",
        "    if nome:\n",
        "        return f\"Olá, {nome}\"\n",
        "    return \"Olá, visitante\"\n",
        "\n",
        "print(saudacao(\"Tiago\"))\n",
        "print(saudacao(None))"
      ]
    },
    {
      "cell_type": "code",
      "execution_count": 77,
      "id": "06512473",
      "metadata": {
        "id": "06512473",
        "colab": {
          "base_uri": "https://localhost:8080/"
        },
        "outputId": "1f8ed6b9-b9a0-425a-c9fc-96bd0314f49d"
      },
      "outputs": [
        {
          "output_type": "stream",
          "name": "stdout",
          "text": [
            "mensagem padrão\n",
            "EM MAIÚSCULO\n"
          ]
        }
      ],
      "source": [
        "# Funções com argumentos somente por palavra-chave\n",
        "\n",
        "def mostrar(msg, /, *, upper=False):\n",
        "    if upper:\n",
        "        msg = msg.upper()\n",
        "    print(msg)\n",
        "\n",
        "mostrar(\"mensagem padrão\")\n",
        "mostrar(\"em maiúsculo\", upper=True)"
      ]
    },
    {
      "cell_type": "markdown",
      "id": "4581a633",
      "metadata": {
        "id": "4581a633"
      },
      "source": [
        "![Virtualenv](attachment:A_2D_digital_vector_graphic_diagram_illustrates_th.png)"
      ]
    },
    {
      "cell_type": "markdown",
      "id": "dd40df21",
      "metadata": {
        "id": "dd40df21"
      },
      "source": [
        "# 📝 Lista de Exercícios\n",
        "\n",
        "1. Escreva uma função que receba dois números e retorne o maior deles.\n",
        "2. Crie uma função que receba uma lista de números e retorne a média.\n",
        "3. Use `match-case` para criar um menu de opções com pelo menos 3 comandos diferentes.\n",
        "4. Faça um programa que solicite nomes até que o usuário envie uma string vazia.\n",
        "5. Reescreva um código simples usando `f-string` com `=`.\n",
        "6. Crie uma função que aceite apenas argumentos por palavra-chave.\n",
        "7. Use o operador `:=` para criar uma versão compacta de um loop `while`.\n",
        "\n",
        "💡 Dica: tente usar Google Colab e explore recursos como Markdown, gráficos com Matplotlib e visualizações de DataFrame com Pandas.\n"
      ]
    }
  ],
  "metadata": {
    "colab": {
      "provenance": [],
      "include_colab_link": true
    },
    "language_info": {
      "name": "python"
    },
    "kernelspec": {
      "name": "python3",
      "display_name": "Python 3"
    }
  },
  "nbformat": 4,
  "nbformat_minor": 5
}